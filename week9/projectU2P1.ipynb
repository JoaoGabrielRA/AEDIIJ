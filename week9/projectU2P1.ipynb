{
 "cells": [
  {
   "attachments": {},
   "cell_type": "markdown",
   "metadata": {},
   "source": [
    "# Small Worlds\n",
    "#### This project was made as a collaboration between Lucas Morais Freire and (placeholder).\n",
    "The dataset used was provided by [alvarofpp](https://github.com/alvarofpp/dataset-flights-brazil)"
   ]
  },
  {
   "cell_type": "code",
   "execution_count": 1,
   "metadata": {
    "vscode": {
     "languageId": "powershell"
    }
   },
   "outputs": [
    {
     "name": "stdout",
     "output_type": "stream",
     "text": [
      "Requirement already satisfied: networkx in c:\\users\\lucas.morais.freire.700\\appdata\\local\\programs\\python\\python311\\lib\\site-packages (3.1)Note: you may need to restart the kernel to use updated packages.\n",
      "\n",
      "Requirement already satisfied: nxviz in c:\\users\\lucas.morais.freire.700\\appdata\\local\\programs\\python\\python311\\lib\\site-packages (0.7.4)Note: you may need to restart the kernel to use updated packages.\n",
      "\n",
      "Requirement already satisfied: matplotlib>=3.3.3 in c:\\users\\lucas.morais.freire.700\\appdata\\local\\programs\\python\\python311\\lib\\site-packages (from nxviz) (3.7.1)\n",
      "Requirement already satisfied: more-itertools>=8.6.0 in c:\\users\\lucas.morais.freire.700\\appdata\\local\\programs\\python\\python311\\lib\\site-packages (from nxviz) (9.1.0)\n",
      "Requirement already satisfied: networkx>=2.5 in c:\\users\\lucas.morais.freire.700\\appdata\\local\\programs\\python\\python311\\lib\\site-packages (from nxviz) (3.1)\n",
      "Requirement already satisfied: numpy>=1.19.4 in c:\\users\\lucas.morais.freire.700\\appdata\\local\\programs\\python\\python311\\lib\\site-packages (from nxviz) (1.24.3)\n",
      "Requirement already satisfied: palettable>=3.3.0 in c:\\users\\lucas.morais.freire.700\\appdata\\local\\programs\\python\\python311\\lib\\site-packages (from nxviz) (3.3.3)\n",
      "Requirement already satisfied: pandas>=1.2.0 in c:\\users\\lucas.morais.freire.700\\appdata\\local\\programs\\python\\python311\\lib\\site-packages (from nxviz) (2.0.2)\n",
      "Requirement already satisfied: seaborn>=0.11.1 in c:\\users\\lucas.morais.freire.700\\appdata\\local\\programs\\python\\python311\\lib\\site-packages (from nxviz) (0.12.2)\n",
      "Requirement already satisfied: contourpy>=1.0.1 in c:\\users\\lucas.morais.freire.700\\appdata\\local\\programs\\python\\python311\\lib\\site-packages (from matplotlib>=3.3.3->nxviz) (1.0.7)\n",
      "Requirement already satisfied: cycler>=0.10 in c:\\users\\lucas.morais.freire.700\\appdata\\local\\programs\\python\\python311\\lib\\site-packages (from matplotlib>=3.3.3->nxviz) (0.11.0)\n",
      "Requirement already satisfied: fonttools>=4.22.0 in c:\\users\\lucas.morais.freire.700\\appdata\\local\\programs\\python\\python311\\lib\\site-packages (from matplotlib>=3.3.3->nxviz) (4.39.4)\n",
      "Requirement already satisfied: kiwisolver>=1.0.1 in c:\\users\\lucas.morais.freire.700\\appdata\\local\\programs\\python\\python311\\lib\\site-packages (from matplotlib>=3.3.3->nxviz) (1.4.4)\n",
      "Requirement already satisfied: packaging>=20.0 in c:\\users\\lucas.morais.freire.700\\appdata\\roaming\\python\\python311\\site-packages (from matplotlib>=3.3.3->nxviz) (23.1)\n",
      "Requirement already satisfied: pillow>=6.2.0 in c:\\users\\lucas.morais.freire.700\\appdata\\local\\programs\\python\\python311\\lib\\site-packages (from matplotlib>=3.3.3->nxviz) (9.5.0)\n",
      "Requirement already satisfied: pyparsing>=2.3.1 in c:\\users\\lucas.morais.freire.700\\appdata\\local\\programs\\python\\python311\\lib\\site-packages (from matplotlib>=3.3.3->nxviz) (3.0.9)\n",
      "Requirement already satisfied: python-dateutil>=2.7 in c:\\users\\lucas.morais.freire.700\\appdata\\roaming\\python\\python311\\site-packages (from matplotlib>=3.3.3->nxviz) (2.8.2)\n",
      "Requirement already satisfied: pytz>=2020.1 in c:\\users\\lucas.morais.freire.700\\appdata\\local\\programs\\python\\python311\\lib\\site-packages (from pandas>=1.2.0->nxviz) (2023.3)\n",
      "Requirement already satisfied: tzdata>=2022.1 in c:\\users\\lucas.morais.freire.700\\appdata\\local\\programs\\python\\python311\\lib\\site-packages (from pandas>=1.2.0->nxviz) (2023.3)\n",
      "Requirement already satisfied: six>=1.5 in c:\\users\\lucas.morais.freire.700\\appdata\\roaming\\python\\python311\\site-packages (from python-dateutil>=2.7->matplotlib>=3.3.3->nxviz) (1.16.0)\n"
     ]
    }
   ],
   "source": [
    "# install dependencies\n",
    "%pip install networkx\n",
    "%pip install nxviz"
   ]
  },
  {
   "attachments": {},
   "cell_type": "markdown",
   "metadata": {},
   "source": [
    "We will be using the dataset containing airport and flight data in Brazil to conduct a series of analysis using graph theory concepts. We will now lay the groundwork so that the requirements that were set for this project are fulfilled, and for that we will first execute some scripts provided by [alvarofpp](https://github.com/alvarofpp/dataset-flights-brazil). To get up-to-date data, we executed the `extract.py` script, then we built the `.csv` files needed by executing `transform_to_airports_csv.py` and `transform_to_anac_csv.py`. Finally, we executed `transform_to_graphml.py` to build the `.graphml` file. Now that we have our datasets sorted out, it's time to get to the analysis."
   ]
  },
  {
   "cell_type": "code",
   "execution_count": 2,
   "metadata": {},
   "outputs": [
    {
     "name": "stderr",
     "output_type": "stream",
     "text": [
      "c:\\Users\\lucas.morais.freire.700\\AppData\\Local\\Programs\\Python\\Python311\\Lib\\site-packages\\nxviz\\__init__.py:18: UserWarning: \n",
      "nxviz has a new API! Version 0.7.4 onwards, the old class-based API is being\n",
      "deprecated in favour of a new API focused on advancing a grammar of network\n",
      "graphics. If your plotting code depends on the old API, please consider\n",
      "pinning nxviz at version 0.7.4, as the new API will break your old code.\n",
      "\n",
      "To check out the new API, please head over to the docs at\n",
      "https://ericmjl.github.io/nxviz/ to learn more. We hope you enjoy using it!\n",
      "\n",
      "(This deprecation message will go away in version 1.0.)\n",
      "\n",
      "  warnings.warn(\n"
     ]
    }
   ],
   "source": [
    "#import some libraries that will be needed:\n",
    "import networkx as nx\n",
    "import nxviz as nv"
   ]
  },
  {
   "cell_type": "code",
   "execution_count": 3,
   "metadata": {},
   "outputs": [],
   "source": [
    "# Instantiate a Graph() object and put the data in the .graphml file inside it.\n",
    "G = nx.Graph()\n",
    "G = nx.read_graphml('data/air_traffic.graphml')"
   ]
  },
  {
   "attachments": {},
   "cell_type": "markdown",
   "metadata": {},
   "source": [
    "This graph contains many international flights that will not matter to the discussions presented in this notebook. We will exclude them from this graph:"
   ]
  },
  {
   "cell_type": "code",
   "execution_count": 4,
   "metadata": {},
   "outputs": [
    {
     "name": "stdout",
     "output_type": "stream",
     "text": [
      "('SBCF', {'name': 'CONFINS', 'country': 'BRASIL', 'latitude': -19.62444305419922, 'longitude': -43.97194290161133, 'region': 'SUDESTE'})\n",
      "('SBGL', {'name': 'RIO DE JANEIRO', 'country': 'BRASIL', 'latitude': -22.8099994659, 'longitude': -43.2505569458, 'region': 'SUDESTE'})\n",
      "('SBGR', {'name': 'GUARULHOS', 'country': 'BRASIL', 'latitude': -23.435556411743164, 'longitude': -46.47305679321289, 'region': 'SUDESTE'})\n",
      "('SSUM', {'name': 'UMUARAMA', 'country': 'BRASIL', 'latitude': -23.7987003326416, 'longitude': -53.31380081176758, 'region': 'SUL'})\n",
      "('SNBG', {'name': 'BAIXO GUANDU', 'country': 'BRASIL', 'latitude': -19.499000549316406, 'longitude': -41.04180145263672, 'region': 'SUDESTE'})\n",
      "('SSBG', {'name': 'BENTO GONÇALVES', 'country': 'BRASIL', 'latitude': -29.1483325958, 'longitude': -51.5363883972, 'region': 'SUL'})\n",
      "('SBCV', {'name': 'CARAVELAS', 'country': 'BRASIL', 'latitude': -17.6523, 'longitude': -39.253101, 'region': 'NORDESTE'})\n",
      "('SBLP', {'name': 'BOM JESUS DA LAPA', 'country': 'BRASIL', 'latitude': -13.2621002197, 'longitude': -43.4081001282, 'region': 'NORDESTE'})\n",
      "('SBSV', {'name': 'SALVADOR', 'country': 'BRASIL', 'latitude': -12.9086112976, 'longitude': -38.3224983215, 'region': 'NORDESTE'})\n",
      "('SNGI', {'name': 'GUANAMBI', 'country': 'BRASIL', 'latitude': -14.208200454711914, 'longitude': -42.74610137939453, 'region': 'NORDESTE'})\n",
      "('SNTF', {'name': 'TEIXEIRA DE FREITAS', 'country': 'BRASIL', 'latitude': -17.524499893188, 'longitude': -39.66849899292, 'region': 'NORDESTE'})\n",
      "('SBAR', {'name': 'ARACAJU', 'country': 'BRASIL', 'latitude': -10.984000206, 'longitude': -37.0703010559, 'region': 'NORDESTE'})\n",
      "('SBMO', {'name': 'RIO LARGO', 'country': 'BRASIL', 'latitude': -9.510809898376465, 'longitude': -35.79169845581055, 'region': 'NORDESTE'})\n",
      "('SBPL', {'name': 'PETROLINA', 'country': 'BRASIL', 'latitude': -9.362409591674805, 'longitude': -40.56909942626953, 'region': 'NORDESTE'})\n",
      "('SNBR', {'name': 'BARREIRAS', 'country': 'BRASIL', 'latitude': -12.078900337219238, 'longitude': -45.00899887084961, 'region': 'NORDESTE'})\n",
      "('SNVR', {'name': 'VERA CRUZ', 'country': 'BRASIL', 'latitude': -13.024700164794922, 'longitude': -38.66579818725586, 'region': 'NORDESTE'})\n",
      "('SBKP', {'name': 'CAMPINAS', 'country': 'BRASIL', 'latitude': -23.0074005127, 'longitude': -47.1344985962, 'region': 'SUDESTE'})\n",
      "('SBBV', {'name': 'BOA VISTA', 'country': 'BRASIL', 'latitude': 2.84138894081, 'longitude': -60.6922225952, 'region': 'NORTE'})\n",
      "('SBFL', {'name': 'FLORIANÓPOLIS', 'country': 'BRASIL', 'latitude': -27.670278549194336, 'longitude': -48.5525016784668, 'region': 'SUL'})\n",
      "('SBPA', {'name': 'PORTO ALEGRE', 'country': 'BRASIL', 'latitude': -29.994400024414062, 'longitude': -51.1713981628418, 'region': 'SUL'})\n",
      "('1AON', {'name': 'OURILÂNDIA DO NORTE', 'country': 'BRASIL', 'latitude': -1.3028599999999528, 'longitude': -48.05421999999993, 'region': 'NORTE'})\n",
      "('SBAA', {'name': 'CONCEIÇÃO DO ARAGUAIA', 'country': 'BRASIL', 'latitude': -8.34835, 'longitude': -49.301498, 'region': 'NORTE'})\n",
      "('SBAS', {'name': 'ASSIS', 'country': 'BRASIL', 'latitude': -22.77951500275149, 'longitude': -47.34907498925416, 'region': 'SUDESTE'})\n",
      "('SBAU', {'name': 'ARAÇATUBA', 'country': 'BRASIL', 'latitude': -21.1413002014, 'longitude': -50.4247016907, 'region': 'SUDESTE'})\n",
      "('SBBE', {'name': 'BELÉM', 'country': 'BRASIL', 'latitude': -1.3792500495900002, 'longitude': -48.4762992859, 'region': 'NORTE'})\n",
      "('SBBH', {'name': 'BELO HORIZONTE', 'country': 'BRASIL', 'latitude': -19.85120010375977, 'longitude': -43.95059967041016, 'region': 'SUDESTE'})\n",
      "('SBBR', {'name': 'BRASÍLIA', 'country': 'BRASIL', 'latitude': -15.869167, 'longitude': -47.920834, 'region': 'CENTRO-OESTE'})\n",
      "('SBCG', {'name': 'CAMPO GRANDE', 'country': 'BRASIL', 'latitude': -20.4687004089, 'longitude': -54.6725006104, 'region': 'CENTRO-OESTE'})\n",
      "('SBCH', {'name': 'CHAPECÓ', 'country': 'BRASIL', 'latitude': -27.134199142456, 'longitude': -52.656600952148, 'region': 'SUL'})\n",
      "('SBCJ', {'name': 'PARAUAPEBAS', 'country': 'BRASIL', 'latitude': -6.11527776718, 'longitude': -50.0013885498, 'region': 'NORTE'})\n",
      "('SBCT', {'name': 'SÃO JOSÉ DOS PINHAIS', 'country': 'BRASIL', 'latitude': -25.5284996033, 'longitude': -49.1758003235, 'region': 'SUL'})\n",
      "('SBCY', {'name': 'VÁRZEA GRANDE', 'country': 'BRASIL', 'latitude': -15.6528997421, 'longitude': -56.1166992188, 'region': 'CENTRO-OESTE'})\n",
      "('SBDN', {'name': 'PRESIDENTE PRUDENTE', 'country': 'BRASIL', 'latitude': -22.1751003265, 'longitude': -51.4245986938, 'region': 'SUDESTE'})\n",
      "('SBEG', {'name': 'MANAUS', 'country': 'BRASIL', 'latitude': -3.03861, 'longitude': -60.049702, 'region': 'NORTE'})\n",
      "('SBFC', {'name': 'FRANCA', 'country': 'BRASIL', 'latitude': -22.72645696758272, 'longitude': -47.34129779133968, 'region': 'SUDESTE'})\n",
      "('SBFZ', {'name': 'FORTALEZA', 'country': 'BRASIL', 'latitude': -3.776279926300049, 'longitude': -38.53260040283203, 'region': 'NORDESTE'})\n",
      "('SBGO', {'name': 'GOIÂNIA', 'country': 'BRASIL', 'latitude': -16.631999969482422, 'longitude': -49.220699310302734, 'region': 'CENTRO-OESTE'})\n",
      "('SBIL', {'name': 'ILHÉUS', 'country': 'BRASIL', 'latitude': -14.815999984741, 'longitude': -39.033199310303, 'region': 'NORDESTE'})\n",
      "('SBIZ', {'name': 'IMPERATRIZ', 'country': 'BRASIL', 'latitude': -5.53129, 'longitude': -47.459999, 'region': 'NORDESTE'})\n",
      "('SBJP', {'name': 'SANTA RITA', 'country': 'BRASIL', 'latitude': -7.145833015440001, 'longitude': -34.9486122131, 'region': 'NORDESTE'})\n",
      "('SBJV', {'name': 'JOINVILLE', 'country': 'BRASIL', 'latitude': -26.22450065612793, 'longitude': -48.797401428222656, 'region': 'SUL'})\n",
      "('SBLO', {'name': 'LONDRINA', 'country': 'BRASIL', 'latitude': -23.3335990906, 'longitude': -51.1301002502, 'region': 'SUL'})\n",
      "('SBMA', {'name': 'MARABÁ', 'country': 'BRASIL', 'latitude': -5.36858987808, 'longitude': -49.1380004883, 'region': 'NORTE'})\n",
      "('SBMC', {'name': 'MINAÇU', 'country': 'BRASIL', 'latitude': -13.5491, 'longitude': -48.195301, 'region': 'CENTRO-OESTE'})\n",
      "('SBMQ', {'name': 'MACAPÁ', 'country': 'BRASIL', 'latitude': 0.0506640002131, 'longitude': -51.0722007751, 'region': 'NORTE'})\n",
      "('SBNF', {'name': 'NAVEGANTES', 'country': 'BRASIL', 'latitude': -26.879999, 'longitude': -48.651402, 'region': 'SUL'})\n",
      "('SBNT', {'name': 'PARNAMIRIM', 'country': 'BRASIL', 'latitude': -5.91141986847, 'longitude': -35.2476997375, 'region': 'NORDESTE'})\n",
      "('SBPJ', {'name': 'PALMAS', 'country': 'BRASIL', 'latitude': -10.2915000916, 'longitude': -48.35699844359999, 'region': 'NORTE'})\n",
      "('SBPN', {'name': 'PORTO NACIONAL', 'country': 'BRASIL', 'latitude': -10.719402, 'longitude': -48.3997, 'region': 'NORTE'})\n",
      "('SBPS', {'name': 'PORTO SEGURO', 'country': 'BRASIL', 'latitude': -16.438601, 'longitude': -39.080898, 'region': 'NORDESTE'})\n",
      "('SBPV', {'name': 'PORTO VELHO', 'country': 'BRASIL', 'latitude': -8.70928955078125, 'longitude': -63.90230178833008, 'region': 'NORTE'})\n",
      "('SBRF', {'name': 'RECIFE', 'country': 'BRASIL', 'latitude': -8.126489639282227, 'longitude': -34.92359924316406, 'region': 'NORDESTE'})\n",
      "('SBRJ', {'name': 'RIO DE JANEIRO', 'country': 'BRASIL', 'latitude': -22.9104995728, 'longitude': -43.1631011963, 'region': 'SUDESTE'})\n",
      "('SBRP', {'name': 'RIBEIRÃO PRETO', 'country': 'BRASIL', 'latitude': -21.136388778686523, 'longitude': -47.776668548583984, 'region': 'SUDESTE'})\n",
      "('SBSJ', {'name': 'SÃO JOSÉ DOS CAMPOS', 'country': 'BRASIL', 'latitude': -23.22920036315918, 'longitude': -45.86149978637695, 'region': 'SUDESTE'})\n",
      "('SBSL', {'name': 'SÃO LUÍS', 'country': 'BRASIL', 'latitude': -2.585360050201416, 'longitude': -44.23410034179688, 'region': 'NORDESTE'})\n",
      "('SBSM', {'name': 'SANTA MARIA', 'country': 'BRASIL', 'latitude': -29.711399, 'longitude': -53.688202, 'region': 'SUL'})\n",
      "('SBSP', {'name': 'SÃO PAULO', 'country': 'BRASIL', 'latitude': -23.626110076904297, 'longitude': -46.65638732910156, 'region': 'SUDESTE'})\n",
      "('SBSR', {'name': 'SÃO JOSÉ DO RIO PRETO', 'country': 'BRASIL', 'latitude': -20.8166007996, 'longitude': -49.40650177, 'region': 'SUDESTE'})\n",
      "('SBTC', {'name': 'UNA', 'country': 'BRASIL', 'latitude': -15.3551998138, 'longitude': -38.9990005493, 'region': 'NORDESTE'})\n",
      "('SBTE', {'name': 'TERESINA', 'country': 'BRASIL', 'latitude': -5.0599398613, 'longitude': -42.8235015869, 'region': 'NORDESTE'})\n",
      "('SBTU', {'name': 'TUCURUÍ', 'country': 'BRASIL', 'latitude': -3.7860100269318, 'longitude': -49.72029876709, 'region': 'NORTE'})\n",
      "('SBUG', {'name': 'URUGUAIANA', 'country': 'BRASIL', 'latitude': -29.7821998596, 'longitude': -57.0382003784, 'region': 'SUL'})\n",
      "('SBUL', {'name': 'UBERLÂNDIA', 'country': 'BRASIL', 'latitude': -18.883612, 'longitude': -48.225277, 'region': 'SUDESTE'})\n",
      "('SBUR', {'name': 'UBERABA', 'country': 'BRASIL', 'latitude': -19.764722824097, 'longitude': -47.966110229492, 'region': 'SUDESTE'})\n",
      "('SBVG', {'name': 'VARGINHA', 'country': 'BRASIL', 'latitude': -21.5900993347, 'longitude': -45.4733009338, 'region': 'SUDESTE'})\n",
      "('SBVH', {'name': 'VILHENA', 'country': 'BRASIL', 'latitude': -12.694399833679, 'longitude': -60.098300933838, 'region': 'NORTE'})\n",
      "('SBVT', {'name': 'VITÓRIA', 'country': 'BRASIL', 'latitude': -20.258057, 'longitude': -40.286388, 'region': 'SUDESTE'})\n",
      "('SDAG', {'name': 'ANGRA DOS REIS', 'country': 'BRASIL', 'latitude': -22.97529983520508, 'longitude': -44.30709838867188, 'region': 'SUDESTE'})\n",
      "('SNDC', {'name': 'REDENÇÃO', 'country': 'BRASIL', 'latitude': -8.033289909362793, 'longitude': -49.97990036010742, 'region': 'NORTE'})\n",
      "('SNDM', {'name': 'LENÇÓIS', 'country': 'BRASIL', 'latitude': -23.4404, 'longitude': -46.4352, 'region': 'NORDESTE'})\n",
      "('SNTO', {'name': 'TEÓFILO OTONI', 'country': 'BRASIL', 'latitude': -17.89229965209961, 'longitude': -41.51359939575195, 'region': 'SUDESTE'})\n",
      "('SSCK', {'name': 'CONCÓRDIA', 'country': 'BRASIL', 'latitude': -27.180599212646484, 'longitude': -52.05270004272461, 'region': 'SUL'})\n",
      "('SSEP', {'name': 'SÃO SEPÉ', 'country': 'BRASIL', 'latitude': -30.18219947814941, 'longitude': -53.57939910888672, 'region': 'SUL'})\n",
      "('SSER', {'name': 'ERECHIM', 'country': 'BRASIL', 'latitude': -27.66189956665039, 'longitude': -52.2682991027832, 'region': 'SUL'})\n",
      "('SSHZ', {'name': 'HORIZONTINA', 'country': 'BRASIL', 'latitude': -27.638299942, 'longitude': -54.339099884, 'region': 'SUL'})\n",
      "('SSLT', {'name': 'ALEGRETE', 'country': 'BRASIL', 'latitude': -29.8127002716, 'longitude': -55.8933982849, 'region': 'SUL'})\n",
      "('SSPB', {'name': 'PATO BRANCO', 'country': 'BRASIL', 'latitude': -26.217184, 'longitude': -52.694463, 'region': 'SUL'})\n",
      "('SSUW', {'name': 'GUARAPUAVA', 'country': 'BRASIL', 'latitude': -25.396620964922096, 'longitude': -51.45080437740425, 'region': 'SUL'})\n",
      "('SSZR', {'name': 'SANTA ROSA', 'country': 'BRASIL', 'latitude': -27.9067, 'longitude': -54.520401, 'region': 'SUL'})\n",
      "('SWFX', {'name': 'SÃO FÉLIX DO ARAGUAIA', 'country': 'BRASIL', 'latitude': -11.632399559020996, 'longitude': -50.68960189819336, 'region': 'CENTRO-OESTE'})\n",
      "('SWGI', {'name': 'GURUPI', 'country': 'BRASIL', 'latitude': -11.73960018157959, 'longitude': -49.13219833374024, 'region': 'NORTE'})\n",
      "('SWJI', {'name': 'JI-PARANÁ', 'country': 'BRASIL', 'latitude': -10.8708000183, 'longitude': -61.8465003967, 'region': 'NORTE'})\n",
      "('SWKK', {'name': 'CACOAL', 'country': 'BRASIL', 'latitude': -11.43, 'longitude': -61.48, 'region': 'NORTE'})\n",
      "('SWKN', {'name': 'CALDAS NOVAS', 'country': 'BRASIL', 'latitude': -17.73583998798199, 'longitude': -48.6232849949148, 'region': 'CENTRO-OESTE'})\n",
      "('SWNQ', {'name': 'NIQUELÂNDIA', 'country': 'BRASIL', 'latitude': -14.434900283813477, 'longitude': -48.49150085449219, 'region': 'CENTRO-OESTE'})\n",
      "('SWPQ', {'name': 'PORTO ALEGRE DO NORTE', 'country': 'BRASIL', 'latitude': -10.861110687256, 'longitude': -51.685001373291, 'region': 'CENTRO-OESTE'})\n",
      "('SBBI', {'name': 'CURITIBA', 'country': 'BRASIL', 'latitude': -25.4050998688, 'longitude': -49.23199844359999, 'region': 'SUL'})\n",
      "('SBCX', {'name': 'CAXIAS DO SUL', 'country': 'BRASIL', 'latitude': -29.1970996857, 'longitude': -51.1875, 'region': 'SUL'})\n",
      "('SBFI', {'name': 'FOZ DO IGUAÇU', 'country': 'BRASIL', 'latitude': -25.60027885437012, 'longitude': -54.48500061035156, 'region': 'SUL'})\n",
      "('SBSN', {'name': 'SANTARÉM', 'country': 'BRASIL', 'latitude': -2.424721956253052, 'longitude': -54.785831451416016, 'region': 'NORTE'})\n",
      "('SDAN', {'name': 'BROTAS', 'country': 'BRASIL', 'latitude': -22.245555877685547, 'longitude': -48.25777816772461, 'region': 'SUDESTE'})\n",
      "('SDCO', {'name': 'SOROCABA', 'country': 'BRASIL', 'latitude': -23.478001, 'longitude': -47.490002, 'region': 'SUDESTE'})\n",
      "('SDUB', {'name': 'UBATUBA', 'country': 'BRASIL', 'latitude': -23.44109916687012, 'longitude': -45.07559967041016, 'region': 'SUDESTE'})\n",
      "('SNFE', {'name': 'ALFENAS', 'country': 'BRASIL', 'latitude': -21.4314, 'longitude': -45.932098, 'region': 'SUDESTE'})\n",
      "('SWGN', {'name': 'ARAGUAÍNA', 'country': 'BRASIL', 'latitude': -7.22787, 'longitude': -48.240501, 'region': 'NORTE'})\n",
      "('SBCA', {'name': 'CASCAVEL', 'country': 'BRASIL', 'latitude': -25.0002994537, 'longitude': -53.5008010864, 'region': 'SUL'})\n",
      "('SBCM', {'name': 'FORQUILHINHA', 'country': 'BRASIL', 'latitude': -28.7244434357, 'longitude': -49.4213905334, 'region': 'SUL'})\n",
      "('SBCR', {'name': 'CORUMBÁ', 'country': 'BRASIL', 'latitude': -19.0119438171, 'longitude': -57.6713905334, 'region': 'CENTRO-OESTE'})\n",
      "('SBME', {'name': 'MACAÉ', 'country': 'BRASIL', 'latitude': -22.343000412, 'longitude': -41.7659988403, 'region': 'SUDESTE'})\n",
      "('SBML', {'name': 'MARÍLIA', 'country': 'BRASIL', 'latitude': -22.1968994141, 'longitude': -49.926399231, 'region': 'SUDESTE'})\n",
      "('SBPK', {'name': 'PELOTAS', 'country': 'BRASIL', 'latitude': -31.718399, 'longitude': -52.327702, 'region': 'SUL'})\n",
      "('SBAQ', {'name': 'ARARAQUARA', 'country': 'BRASIL', 'latitude': -21.8120002747, 'longitude': -48.1329994202, 'region': 'SUDESTE'})\n",
      "('SDVG', {'name': 'VOTUPORANGA', 'country': 'BRASIL', 'latitude': -20.46319961547852, 'longitude': -50.00450134277344, 'region': 'SUDESTE'})\n",
      "('SBBT', {'name': 'BARRETOS', 'country': 'BRASIL', 'latitude': -20.584499359131, 'longitude': -48.594100952148, 'region': 'SUDESTE'})\n",
      "('SNRU', {'name': 'CARUARU', 'country': 'BRASIL', 'latitude': -8.282389640808105, 'longitude': -36.01350021362305, 'region': 'NORDESTE'})\n",
      "('SBMN', {'name': 'MANAUS', 'country': 'BRASIL', 'latitude': -3.1460399627685547, 'longitude': -59.98630142211914, 'region': 'NORTE'})\n",
      "('SBBU', {'name': 'BAURU', 'country': 'BRASIL', 'latitude': -22.3449993134, 'longitude': -49.0537986755, 'region': 'SUDESTE'})\n",
      "('SBMG', {'name': 'MARINGÁ', 'country': 'BRASIL', 'latitude': -23.47606, 'longitude': -52.016187, 'region': 'SUL'})\n",
      "('SSTD', {'name': 'TOLEDO', 'country': 'BRASIL', 'latitude': -28.55083274841309, 'longitude': -51.59611129760742, 'region': 'SUL'})\n",
      "('SBTD', {'name': 'TOLEDO', 'country': 'BRASIL', 'latitude': -24.6863, 'longitude': -53.697498, 'region': 'SUL'})\n",
      "('SBRG', {'name': 'RIO GRANDE', 'country': 'BRASIL', 'latitude': -32.033139999999946, 'longitude': -52.09813999999994, 'region': 'SUL'})\n",
      "('SNOX', {'name': 'ORIXIMINÁ', 'country': 'BRASIL', 'latitude': -1.714079976081848, 'longitude': -55.83620071411133, 'region': 'NORTE'})\n",
      "('SNTI', {'name': 'ÓBIDOS', 'country': 'BRASIL', 'latitude': -1.867169976234436, 'longitude': -55.51440048217773, 'region': 'NORTE'})\n",
      "('SBHT', {'name': 'ALTAMIRA', 'country': 'BRASIL', 'latitude': -3.2539100646973, 'longitude': -52.254001617432, 'region': 'NORTE'})\n",
      "('SBIH', {'name': 'ITAITUBA', 'country': 'BRASIL', 'latitude': -4.2423400878906, 'longitude': -56.000701904297, 'region': 'NORTE'})\n",
      "('SBMD', {'name': 'ALMEIRIM', 'country': 'BRASIL', 'latitude': -0.889839, 'longitude': -52.6022, 'region': 'NORTE'})\n",
      "('SBFN', {'name': 'FERNANDO DE NORONHA', 'country': 'BRASIL', 'latitude': -3.85493, 'longitude': -32.423302, 'region': 'NORDESTE'})\n",
      "('SBIP', {'name': 'SANTANA DO PARAÍSO', 'country': 'BRASIL', 'latitude': -19.470699310303, 'longitude': -42.487598419189, 'region': 'SUDESTE'})\n",
      "('SBJF', {'name': 'JUIZ DE FORA', 'country': 'BRASIL', 'latitude': -21.79150009155273, 'longitude': -43.38679885864258, 'region': 'SUDESTE'})\n",
      "('SBKG', {'name': 'CAMPINA GRANDE', 'country': 'BRASIL', 'latitude': -7.26992, 'longitude': -35.8964, 'region': 'NORDESTE'})\n",
      "('SBMK', {'name': 'MONTES CLAROS', 'country': 'BRASIL', 'latitude': -16.706899642899998, 'longitude': -43.818901062, 'region': 'SUDESTE'})\n",
      "('SBPB', {'name': 'PARNAÍBA', 'country': 'BRASIL', 'latitude': -2.89374995232, 'longitude': -41.73199844359999, 'region': 'NORDESTE'})\n",
      "('SBQV', {'name': 'VITÓRIA DA CONQUISTA', 'country': 'BRASIL', 'latitude': -14.8628, 'longitude': -40.863098, 'region': 'NORDESTE'})\n",
      "('SBTB', {'name': 'ORIXIMINÁ', 'country': 'BRASIL', 'latitude': -1.489599943161, 'longitude': -56.396800994873, 'region': 'NORTE'})\n",
      "('SNGV', {'name': 'GOVERNADOR VALADARES', 'country': 'BRASIL', 'latitude': -18.848209999999938, 'longitude': -41.95035999999993, 'region': 'SUDESTE'})\n",
      "('SNQY', {'name': 'JUAZEIRO DO NORTE', 'country': 'BRASIL', 'latitude': -21.2294445038, 'longitude': -47.7952766418, 'region': 'NORDESTE'})\n",
      "('SWPJ', {'name': 'PALMAS', 'country': 'BRASIL', 'latitude': -16.0341663361, 'longitude': -53.0344429016, 'region': 'NORTE'})\n",
      "('SBJU', {'name': 'JUAZEIRO DO NORTE', 'country': 'BRASIL', 'latitude': -7.21895980835, 'longitude': -39.2700996399, 'region': 'NORDESTE'})\n",
      "('SBMS', {'name': 'MOSSORÓ', 'country': 'BRASIL', 'latitude': -5.2019200325, 'longitude': -37.3642997742, 'region': 'NORDESTE'})\n",
      "('6ASO', {'name': 'SORRISO', 'country': 'BRASIL', 'latitude': -15.642259999999965, 'longitude': -56.12584999999996, 'region': 'CENTRO-OESTE'})\n",
      "('SBAT', {'name': 'ALTA FLORESTA', 'country': 'BRASIL', 'latitude': -9.8663892746, 'longitude': -56.1049995422, 'region': 'CENTRO-OESTE'})\n",
      "('SBEK', {'name': 'JACAREACANGA', 'country': 'BRASIL', 'latitude': -6.233160018920898, 'longitude': -57.77690124511719, 'region': 'NORTE'})\n",
      "('SBOI', {'name': 'OIAPOQUE', 'country': 'BRASIL', 'latitude': 3.85548996925354, 'longitude': -51.79690170288086, 'region': 'NORTE'})\n",
      "('SNDB', {'name': 'RURÓPOLIS', 'country': 'BRASIL', 'latitude': -4.0855560302734375, 'longitude': -54.910831451416016, 'region': 'NORTE'})\n",
      "('SNMD', {'name': 'ITAITUBA', 'country': 'BRASIL', 'latitude': -6.820556163787842, 'longitude': -56.844722747802734, 'region': 'NORTE'})\n",
      "('SNMZ', {'name': 'PORTO DE MOZ', 'country': 'BRASIL', 'latitude': -1.741449952125549, 'longitude': -52.23609924316406, 'region': 'NORTE'})\n",
      "('SNNG', {'name': 'NOVO PROGRESSO', 'country': 'BRASIL', 'latitude': -1.3028599999999528, 'longitude': -48.05421999999993, 'region': 'NORTE'})\n",
      "('SNSH', {'name': 'SANTARÉM', 'country': 'BRASIL', 'latitude': -2.5744400024414062, 'longitude': -54.73139953613281, 'region': 'NORTE'})\n",
      "('SNVS', {'name': 'BREVES', 'country': 'BRASIL', 'latitude': -1.6365300416946411, 'longitude': -50.44359970092773, 'region': 'NORTE'})\n",
      "('SWJH', {'name': 'JUARA', 'country': 'BRASIL', 'latitude': -15.642259999999965, 'longitude': -56.12584999999996, 'region': 'CENTRO-OESTE'})\n",
      "('SWJN', {'name': 'JUÍNA', 'country': 'BRASIL', 'latitude': -11.419444, 'longitude': -58.701668, 'region': 'CENTRO-OESTE'})\n",
      "('SWJU', {'name': 'JURUENA', 'country': 'BRASIL', 'latitude': -10.305832862854004, 'longitude': -58.489444732666016, 'region': 'CENTRO-OESTE'})\n",
      "('SWMP', {'name': 'GUARANTÃ DO NORTE', 'country': 'BRASIL', 'latitude': -9.956759999999974, 'longitude': -54.904439999999965, 'region': 'CENTRO-OESTE'})\n",
      "('SWPI', {'name': 'PARINTINS', 'country': 'BRASIL', 'latitude': -2.6730198860168457, 'longitude': -56.77719879150391, 'region': 'NORTE'})\n",
      "('SWRP', {'name': 'ARIPUANÃ', 'country': 'BRASIL', 'latitude': -10.188278, 'longitude': -59.457273, 'region': 'CENTRO-OESTE'})\n",
      "('SWSI', {'name': 'SINOP', 'country': 'BRASIL', 'latitude': -11.885001, 'longitude': -55.586109, 'region': 'CENTRO-OESTE'})\n",
      "('SWUQ', {'name': 'ALTO ALEGRE', 'country': 'BRASIL', 'latitude': 2.83528, 'longitude': -63.646999, 'region': 'NORTE'})\n",
      "('SBTS', {'name': 'ÓBIDOS', 'country': 'BRASIL', 'latitude': 2.22347, 'longitude': -55.946098, 'region': 'NORTE'})\n",
      "('SWCP', {'name': 'CAMPO NOVO DO PARECIS', 'country': 'BRASIL', 'latitude': -13.628610610961914, 'longitude': -57.926387786865234, 'region': 'CENTRO-OESTE'})\n",
      "('SWTS', {'name': 'TANGARÁ DA SERRA', 'country': 'BRASIL', 'latitude': -14.6619997025, 'longitude': -57.4435005188, 'region': 'CENTRO-OESTE'})\n",
      "('SWTU', {'name': 'CAMPO NOVO DO PARECIS', 'country': 'BRASIL', 'latitude': -13.465528, 'longitude': -58.866935, 'region': 'CENTRO-OESTE'})\n",
      "('SBJC', {'name': 'BELÉM', 'country': 'BRASIL', 'latitude': -1.4141600132, 'longitude': -48.4607009888, 'region': 'NORTE'})\n",
      "('SNLA', {'name': 'PARAUAPEBAS', 'country': 'BRASIL', 'latitude': -6.567500114440918, 'longitude': -49.71944427490234, 'region': 'NORTE'})\n",
      "('SWKC', {'name': 'CÁCERES', 'country': 'BRASIL', 'latitude': -16.04360008239746, 'longitude': -57.62990188598633, 'region': 'CENTRO-OESTE'})\n",
      "('SNSM', {'name': 'SALINÓPOLIS', 'country': 'BRASIL', 'latitude': -0.6956639885902405, 'longitude': -47.33470153808594, 'region': 'NORTE'})\n",
      "('SWLV', {'name': 'SANTO ANTÔNIO DO LEVERGER', 'country': 'BRASIL', 'latitude': -15.853400230407717, 'longitude': -56.087398529052734, 'region': 'CENTRO-OESTE'})\n",
      "('SNFX', {'name': 'SÃO FÉLIX DO XINGU', 'country': 'BRASIL', 'latitude': -6.6413, 'longitude': -51.9523, 'region': 'NORTE'})\n",
      "('SWMW', {'name': 'MAUÉS', 'country': 'BRASIL', 'latitude': -3.37217, 'longitude': -57.7248, 'region': 'NORTE'})\n",
      "('SWVR', {'name': 'SINOP', 'country': 'BRASIL', 'latitude': -11.906131, 'longitude': -55.456099, 'region': 'CENTRO-OESTE'})\n",
      "('SBCP', {'name': 'CAMPOS DOS GOYTACAZES', 'country': 'BRASIL', 'latitude': -21.698299408, 'longitude': -41.301700592, 'region': 'SUDESTE'})\n",
      "('SBNM', {'name': 'SANTO ÂNGELO', 'country': 'BRASIL', 'latitude': -28.2817, 'longitude': -54.169102, 'region': 'SUL'})\n",
      "('SBPP', {'name': 'PONTA PORÃ', 'country': 'BRASIL', 'latitude': -22.54960060119629, 'longitude': -55.702598571777344, 'region': 'CENTRO-OESTE'})\n",
      "('SNMU', {'name': 'MUCURI', 'country': 'BRASIL', 'latitude': -18.048900604248047, 'longitude': -39.864200592041016, 'region': 'NORDESTE'})\n",
      "('SSDO', {'name': 'DOURADOS', 'country': 'BRASIL', 'latitude': -22.2019, 'longitude': -54.926601, 'region': 'CENTRO-OESTE'})\n",
      "('SWLC', {'name': 'RIO VERDE', 'country': 'BRASIL', 'latitude': -17.8347225189209, 'longitude': -50.95611190795898, 'region': 'CENTRO-OESTE'})\n",
      "('SBBQ', {'name': 'BARBACENA', 'country': 'BRASIL', 'latitude': -21.2672, 'longitude': -43.761101, 'region': 'SUDESTE'})\n",
      "('SBMT', {'name': 'SÃO PAULO', 'country': 'BRASIL', 'latitude': -23.5090999603, 'longitude': -46.6377983093, 'region': 'SUDESTE'})\n",
      "('SDFR', {'name': 'CABO FRIO', 'country': 'BRASIL', 'latitude': -3.741244, 'longitude': -38.473532, 'region': 'SUDESTE'})\n",
      "('SBCZ', {'name': 'CRUZEIRO DO SUL', 'country': 'BRASIL', 'latitude': -7.59991, 'longitude': -72.769501, 'region': 'NORTE'})\n",
      "('SBRB', {'name': 'RIO BRANCO', 'country': 'BRASIL', 'latitude': -9.869031, 'longitude': -67.893984, 'region': 'NORTE'})\n",
      "('SBTF', {'name': 'TEFÉ', 'country': 'BRASIL', 'latitude': -3.38294005394, 'longitude': -64.7240982056, 'region': 'NORTE'})\n",
      "('SBTK', {'name': 'TARAUACÁ', 'country': 'BRASIL', 'latitude': -8.1552600860596, 'longitude': -70.783302307129, 'region': 'NORTE'})\n",
      "('SBTT', {'name': 'TABATINGA', 'country': 'BRASIL', 'latitude': -4.2556700706482, 'longitude': -69.93579864502, 'region': 'NORTE'})\n",
      "('SBUA', {'name': 'SÃO GABRIEL DA CACHOEIRA', 'country': 'BRASIL', 'latitude': -0.14835, 'longitude': -66.9855, 'region': 'NORTE'})\n",
      "('SWBC', {'name': 'BARCELOS', 'country': 'BRASIL', 'latitude': -0.981292, 'longitude': -62.919601, 'region': 'NORTE'})\n",
      "('SWBR', {'name': 'BORBA', 'country': 'BRASIL', 'latitude': -4.4063401222229, 'longitude': -59.60240173339844, 'region': 'NORTE'})\n",
      "('SWCA', {'name': 'CARAUARI', 'country': 'BRASIL', 'latitude': -4.871520042419434, 'longitude': -66.89749908447266, 'region': 'NORTE'})\n",
      "('SWEI', {'name': 'EIRUNEPÉ', 'country': 'BRASIL', 'latitude': -6.639530181884766, 'longitude': -69.87979888916016, 'region': 'NORTE'})\n",
      "('SWHT', {'name': 'HUMAITÁ', 'country': 'BRASIL', 'latitude': -7.532120227810001, 'longitude': -63.072101593, 'region': 'NORTE'})\n",
      "('SWII', {'name': 'SANTO ANTÔNIO DO IÇÁ', 'country': 'BRASIL', 'latitude': -2.939069986343384, 'longitude': -69.69400024414062, 'region': 'NORTE'})\n",
      "('SWJP', {'name': 'JAPURÁ', 'country': 'BRASIL', 'latitude': -1.4039299488067627, 'longitude': -69.42379760742188, 'region': 'NORTE'})\n",
      "('SWKO', {'name': 'COARI', 'country': 'BRASIL', 'latitude': -4.134059906005859, 'longitude': -63.132598876953125, 'region': 'NORTE'})\n",
      "('SWLB', {'name': 'LÁBREA', 'country': 'BRASIL', 'latitude': -7.278969764709473, 'longitude': -64.76950073242188, 'region': 'NORTE'})\n",
      "('SWNA', {'name': 'NOVO ARIPUANÃ', 'country': 'BRASIL', 'latitude': -5.118030071258545, 'longitude': -60.36489868164063, 'region': 'NORTE'})\n",
      "('SWOB', {'name': 'FONTE BOA', 'country': 'BRASIL', 'latitude': -2.5326099395800004, 'longitude': -66.0831985474, 'region': 'NORTE'})\n",
      "('SWTP', {'name': 'SANTA ISABEL DO RIO NEGRO', 'country': 'BRASIL', 'latitude': -0.3786, 'longitude': -64.9923, 'region': 'NORTE'})\n",
      "('SWNO', {'name': 'NOVA OLINDA DO NORTE', 'country': 'BRASIL', 'latitude': -3.887778043746948, 'longitude': -59.07833480834961, 'region': 'NORTE'})\n",
      "('SBIC', {'name': 'ITACOATIARA', 'country': 'BRASIL', 'latitude': -3.127259969711304, 'longitude': -58.481201171875, 'region': 'NORTE'})\n",
      "('SWMK', {'name': 'SÃO GABRIEL DA CACHOEIRA', 'country': 'BRASIL', 'latitude': 0.6282690167427063, 'longitude': -66.11509704589844, 'region': 'NORTE'})\n",
      "('SBMY', {'name': 'MANICORÉ', 'country': 'BRASIL', 'latitude': -5.8113799095154, 'longitude': -61.278301239014, 'region': 'NORTE'})\n",
      "('SWSQ', {'name': 'SÃO GABRIEL DA CACHOEIRA', 'country': 'BRASIL', 'latitude': 1.733055556, 'longitude': -69.38388889, 'region': 'NORTE'})\n",
      "('SWUY', {'name': 'COARI', 'country': 'BRASIL', 'latitude': -4.88422012329, 'longitude': -65.3554000854, 'region': 'NORTE'})\n",
      "('SBYA', {'name': 'SÃO GABRIEL DA CACHOEIRA', 'country': 'BRASIL', 'latitude': 0.6075000166893, 'longitude': -69.18579864502, 'region': 'NORTE'})\n",
      "('SWYN', {'name': 'APUÍ', 'country': 'BRASIL', 'latitude': -7.17287015914917, 'longitude': -59.839599609375, 'region': 'NORTE'})\n",
      "('SBLJ', {'name': 'LAGES', 'country': 'BRASIL', 'latitude': -27.7821006775, 'longitude': -50.28150177, 'region': 'SUL'})\n",
      "('SBPF', {'name': 'PASSO FUNDO', 'country': 'BRASIL', 'latitude': -28.243999, 'longitude': -52.326599, 'region': 'SUL'})\n",
      "('2NHT', {'name': 'UNA', 'country': 'BRASIL', 'latitude': -12.729117280068255, 'longitude': -38.32290158631616, 'region': 'NORDESTE'})\n",
      "('SBCB', {'name': 'CABO FRIO', 'country': 'BRASIL', 'latitude': -22.921699523900003, 'longitude': -42.0742988586, 'region': 'SUDESTE'})\n",
      "('SNVB', {'name': 'VALENÇA', 'country': 'BRASIL', 'latitude': -13.2965, 'longitude': -38.992401, 'region': 'NORDESTE'})\n",
      "('SBAN', {'name': 'ANÁPOLIS', 'country': 'BRASIL', 'latitude': -16.2292, 'longitude': -48.964298, 'region': 'CENTRO-OESTE'})\n",
      "('SBSC', {'name': 'RIO DE JANEIRO', 'country': 'BRASIL', 'latitude': -22.9324, 'longitude': -43.719101, 'region': 'SUDESTE'})\n",
      "('SDZC', {'name': 'SÃO CARLOS', 'country': 'BRASIL', 'latitude': 2.708055, 'longitude': -62.668889, 'region': 'SUDESTE'})\n",
      "('SSVI', {'name': 'VIDEIRA', 'country': 'BRASIL', 'latitude': -26.99970054626465, 'longitude': -51.14189910888672, 'region': 'SUL'})\n",
      "('SNIG', {'name': 'IGUATU', 'country': 'BRASIL', 'latitude': -6.346640110015869, 'longitude': -39.29380035400391, 'region': 'NORDESTE'})\n",
      "('SNOB', {'name': 'SOBRAL', 'country': 'BRASIL', 'latitude': -3.67889, 'longitude': -40.336802, 'region': 'NORDESTE'})\n",
      "('SNQD', {'name': 'SOUSA', 'country': 'BRASIL', 'latitude': -6.78543996811, 'longitude': -38.2333984375, 'region': 'NORDESTE'})\n",
      "('SNTS', {'name': 'PATOS', 'country': 'BRASIL', 'latitude': -7.038990020751953, 'longitude': -37.2515983581543, 'region': 'NORDESTE'})\n",
      "('SNAB', {'name': 'ARARIPINA', 'country': 'BRASIL', 'latitude': -7.5867600440979, 'longitude': -40.53549957275391, 'region': 'NORDESTE'})\n",
      "('SNQG', {'name': 'FLORIANO', 'country': 'BRASIL', 'latitude': -6.8463897705078125, 'longitude': -43.07730102539063, 'region': 'NORDESTE'})\n",
      "('SNKK', {'name': 'CAICÓ', 'country': 'BRASIL', 'latitude': -6.439169883728027, 'longitude': -37.07830047607422, 'region': 'NORDESTE'})\n",
      "('SNRS', {'name': 'RUSSAS', 'country': 'BRASIL', 'latitude': -4.947269916534424, 'longitude': -38.00820159912109, 'region': 'NORDESTE'})\n",
      "('SNQX', {'name': 'QUIXADÁ', 'country': 'BRASIL', 'latitude': -4.97907018661499, 'longitude': -38.98759841918945, 'region': 'NORDESTE'})\n",
      "('SDUN', {'name': 'ITAPERUNA', 'country': 'BRASIL', 'latitude': -21.2192993164, 'longitude': -41.8759002686, 'region': 'SUDESTE'})\n",
      "('SNPD', {'name': 'PATOS DE MINAS', 'country': 'BRASIL', 'latitude': -18.672800064086918, 'longitude': -46.4911994934082, 'region': 'SUDESTE'})\n",
      "('SBCC', {'name': 'NOVO PROGRESSO', 'country': 'BRASIL', 'latitude': -9.33393955231, 'longitude': -54.9654006958, 'region': 'NORTE'})\n",
      "('SBPC', {'name': 'POÇOS DE CALDAS', 'country': 'BRASIL', 'latitude': -21.843000411987, 'longitude': -46.567901611328, 'region': 'SUDESTE'})\n",
      "('SBAV', {'name': 'TEODORO SAMPAIO', 'country': 'BRASIL', 'latitude': -22.5256004333, 'longitude': -52.9721984863, 'region': 'SUDESTE'})\n",
      "('SDOU', {'name': 'OURINHOS', 'country': 'BRASIL', 'latitude': -22.96649932861328, 'longitude': -49.91329956054688, 'region': 'SUDESTE'})\n",
      "('SBTL', {'name': 'TELÊMACO BORBA', 'country': 'BRASIL', 'latitude': -24.317801, 'longitude': -50.6516, 'region': 'SUL'})\n",
      "('SBGM', {'name': 'GUAJARÁ-MIRIM', 'country': 'BRASIL', 'latitude': -10.786399841308594, 'longitude': -65.28479766845703, 'region': 'NORTE'})\n",
      "('SWCQ', {'name': 'COSTA MARQUES', 'country': 'BRASIL', 'latitude': -12.421099662780762, 'longitude': -64.25160217285156, 'region': 'NORTE'})\n",
      "('SWFJ', {'name': 'FEIJÓ', 'country': 'BRASIL', 'latitude': -8.16558, 'longitude': -70.352997, 'region': 'NORTE'})\n",
      "('SBMM', {'name': 'JAÍBA', 'country': 'BRASIL', 'latitude': -22.357200622558597, 'longitude': -40.090599060058594, 'region': 'SUDESTE'})\n",
      "('SSPK', {'name': 'PORECATU', 'country': 'BRASIL', 'latitude': -22.77879905700684, 'longitude': -51.36140060424805, 'region': 'SUL'})\n",
      "('SBMH', {'name': 'MARINGÁ', 'country': 'BRASIL', 'latitude': -23.467089999999928, 'longitude': -51.99419999999998, 'region': 'SUL'})\n",
      "('SBAF', {'name': 'RIO DE JANEIRO', 'country': 'BRASIL', 'latitude': -22.875099, 'longitude': -43.384701, 'region': 'SUDESTE'})\n",
      "('SNGR', {'name': 'CUMARU DO NORTE', 'country': 'BRASIL', 'latitude': -7.783610820770264, 'longitude': -51.133888244628906, 'region': 'NORTE'})\n",
      "('SNMA', {'name': 'MONTE ALEGRE', 'country': 'BRASIL', 'latitude': -1.9958000183105469, 'longitude': -54.07419967651367, 'region': 'NORTE'})\n",
      "('SNAT', {'name': 'ARACATI', 'country': 'BRASIL', 'latitude': -4.567140102386475, 'longitude': -37.79999923706055, 'region': 'NORDESTE'})\n",
      "('SNCB', {'name': 'IPIXUNA DO PARÁ', 'country': 'BRASIL', 'latitude': -2.523611068725586, 'longitude': -53.939720153808594, 'region': 'NORTE'})\n",
      "('SWDM', {'name': 'DIAMANTINO', 'country': 'BRASIL', 'latitude': -14.37689971923828, 'longitude': -56.40039825439453, 'region': 'CENTRO-OESTE'})\n",
      "('SNRB', {'name': 'ITAITUBA', 'country': 'BRASIL', 'latitude': -4.315209865570068, 'longitude': -56.10749816894531, 'region': 'NORTE'})\n",
      "('SNPG', {'name': 'PORTO GRANDE', 'country': 'BRASIL', 'latitude': 0.866388976574, 'longitude': -51.4006004333, 'region': 'NORTE'})\n",
      "('SNSW', {'name': 'SOURE', 'country': 'BRASIL', 'latitude': -0.6994310021400452, 'longitude': -48.52099990844727, 'region': 'NORTE'})\n",
      "('SWXM', {'name': 'MATUPÁ', 'country': 'BRASIL', 'latitude': -10.170277595500002, 'longitude': -54.9527778625, 'region': 'CENTRO-OESTE'})\n",
      "('SBBW', {'name': 'BARRA DO GARÇAS', 'country': 'BRASIL', 'latitude': -15.8613004684, 'longitude': -52.3889007568, 'region': 'CENTRO-OESTE'})\n",
      "('SBGV', {'name': 'GOVERNADOR VALADARES', 'country': 'BRASIL', 'latitude': -18.89520072937, 'longitude': -41.982200622559, 'region': 'SUDESTE'})\n",
      "('SDBK', {'name': 'BOTUCATU', 'country': 'BRASIL', 'latitude': -22.939501, 'longitude': -48.467999, 'region': 'SUDESTE'})\n",
      "('SSCR', {'name': 'MARECHAL CÂNDIDO RONDON', 'country': 'BRASIL', 'latitude': -24.512699127197266, 'longitude': -54.0546989440918, 'region': 'SUL'})\n",
      "('SWUI', {'name': 'PAUINI', 'country': 'BRASIL', 'latitude': -7.722499847412109, 'longitude': -67.02833557128906, 'region': 'NORTE'})\n",
      "('SWPF', {'name': 'PRESIDENTE FIGUEIREDO', 'country': 'BRASIL', 'latitude': -2.0448599999999715, 'longitude': -60.02606999999995, 'region': 'NORTE'})\n",
      "('SDCG', {'name': 'SÃO PAULO DE OLIVENÇA', 'country': 'BRASIL', 'latitude': -3.46792950765, 'longitude': -68.9204120636, 'region': 'NORTE'})\n",
      "('SWNK', {'name': 'BOCA DO ACRE', 'country': 'BRASIL', 'latitude': -8.83456, 'longitude': -67.312401, 'region': 'NORTE'})\n",
      "('SDSC', {'name': 'SÃO CARLOS', 'country': 'BRASIL', 'latitude': -21.875401, 'longitude': -47.903703, 'region': 'SUDESTE'})\n",
      "('SNDR', {'name': 'TIMON', 'country': 'BRASIL', 'latitude': -5.079790115356445, 'longitude': -42.87369918823242, 'region': 'NORDESTE'})\n",
      "('SSLS', {'name': 'RUY BARBOSA', 'country': 'BRASIL', 'latitude': -25.51499938964844, 'longitude': -52.557498931884766, 'region': 'NORDESTE'})\n",
      "('SBPM', {'name': 'PALMAS', 'country': 'BRASIL', 'latitude': -7.231754891881584, 'longitude': -48.23303257767319, 'region': 'NORTE'})\n",
      "('SWRD', {'name': 'RONDONÓPOLIS', 'country': 'BRASIL', 'latitude': -16.586, 'longitude': -54.7248, 'region': 'CENTRO-OESTE'})\n",
      "('SNNC', {'name': 'IPIXUNA DO PARÁ', 'country': 'BRASIL', 'latitude': -2.8202779293060303, 'longitude': -47.8930549621582, 'region': 'NORTE'})\n",
      "('SSPG', {'name': 'PARANAGUÁ', 'country': 'BRASIL', 'latitude': -25.54010009765625, 'longitude': -48.53120040893555, 'region': 'SUL'})\n",
      "('SNUI', {'name': 'ARAÇUAÍ', 'country': 'BRASIL', 'latitude': -16.85260009765625, 'longitude': -42.04510116577149, 'region': 'SUDESTE'})\n",
      "('SBAM', {'name': 'AMAPÁ', 'country': 'BRASIL', 'latitude': 2.07751, 'longitude': -50.8582, 'region': 'NORTE'})\n",
      "('SWNS', {'name': 'ANÁPOLIS', 'country': 'BRASIL', 'latitude': -16.3623008728, 'longitude': -48.9271011353, 'region': 'CENTRO-OESTE'})\n",
      "('SBAX', {'name': 'ARAXÁ', 'country': 'BRASIL', 'latitude': -19.563199996948, 'longitude': -46.960399627686, 'region': 'SUDESTE'})\n",
      "('SNDV', {'name': 'DIVINÓPOLIS', 'country': 'BRASIL', 'latitude': -20.180700302124, 'longitude': -44.870899200439, 'region': 'SUDESTE'})\n",
      "('SBLS', {'name': 'LAGOA SANTA', 'country': 'BRASIL', 'latitude': -19.66160011291504, 'longitude': -43.89640045166016, 'region': 'SUDESTE'})\n",
      "('SBBZ', {'name': 'ARMAÇÃO DOS BÚZIOS', 'country': 'BRASIL', 'latitude': -22.770881, 'longitude': -41.96308, 'region': 'SUDESTE'})\n",
      "('SBST', {'name': 'SANTOS', 'country': 'BRASIL', 'latitude': -23.928056716918945, 'longitude': -46.29972076416016, 'region': 'SUDESTE'})\n",
      "('SNBA', {'name': 'BARRETOS', 'country': 'BRASIL', 'latitude': -20.57140999999996, 'longitude': -48.57886999999994, 'region': 'SUDESTE'})\n",
      "('SWFE', {'name': 'LUCAS DO RIO VERDE', 'country': 'BRASIL', 'latitude': -13.314443588256836, 'longitude': -56.11277770996094, 'region': 'CENTRO-OESTE'})\n",
      "('SWYK', {'name': 'POCONÉ', 'country': 'BRASIL', 'latitude': -17.062599182128906, 'longitude': -56.58369827270508, 'region': 'CENTRO-OESTE'})\n",
      "('SWCI', {'name': 'ARIPUANÃ', 'country': 'BRASIL', 'latitude': -14.223138, 'longitude': -46.550021, 'region': 'CENTRO-OESTE'})\n",
      "('SNYA', {'name': 'ALMEIRIM', 'country': 'BRASIL', 'latitude': -1.4919439554214478, 'longitude': -52.57833480834961, 'region': 'NORTE'})\n",
      "('SNEB', {'name': 'PARAGOMINAS', 'country': 'BRASIL', 'latitude': -3.025278091430664, 'longitude': -47.31694412231445, 'region': 'NORTE'})\n",
      "('SDOW', {'name': 'OURILÂNDIA DO NORTE', 'country': 'BRASIL', 'latitude': -6.763100147250001, 'longitude': -51.0499000549, 'region': 'NORTE'})\n",
      "('SNPV', {'name': 'BARCARENA', 'country': 'BRASIL', 'latitude': -30.692516, 'longitude': -50.557139, 'region': 'NORTE'})\n",
      "('SWBI', {'name': 'BARREIRINHA', 'country': 'BRASIL', 'latitude': -2.79241991043, 'longitude': -57.0578994751, 'region': 'NORTE'})\n",
      "('SWEE', {'name': 'ATALAIA DO NORTE', 'country': 'BRASIL', 'latitude': -4.52377986908, 'longitude': -71.560798645, 'region': 'NORTE'})\n",
      "('SWJV', {'name': 'ATALAIA DO NORTE', 'country': 'BRASIL', 'latitude': -5.127240180969238, 'longitude': -72.80999755859375, 'region': 'NORTE'})\n",
      "('SIGP', {'name': 'GAVIÃO PEIXOTO', 'country': 'BRASIL', 'latitude': -22.909286, 'longitude': -43.181956, 'region': 'SUDESTE'})\n",
      "('SNAX', {'name': 'ASSIS', 'country': 'BRASIL', 'latitude': -22.64, 'longitude': -50.453056, 'region': 'SUDESTE'})\n",
      "('SIBU', {'name': 'CATOLÉ DO ROCHA', 'country': 'BRASIL', 'latitude': -6.36253023147583, 'longitude': -37.75619888305664, 'region': 'NORDESTE'})\n",
      "('SNUC', {'name': 'AÇU', 'country': 'BRASIL', 'latitude': -5.595049858093262, 'longitude': -36.960899353027344, 'region': 'NORDESTE'})\n",
      "('SNJO', {'name': 'JOÃO PESSOA', 'country': 'BRASIL', 'latitude': -7.091989994049072, 'longitude': -34.84159851074219, 'region': 'NORDESTE'})\n",
      "('SNKB', {'name': 'CAMPINA GRANDE', 'country': 'BRASIL', 'latitude': -7.178332805633545, 'longitude': -35.99027633666992, 'region': 'NORDESTE'})\n",
      "('SSCC', {'name': 'CAÇADOR', 'country': 'BRASIL', 'latitude': -27.53462, 'longitude': -48.509863, 'region': 'SUL'})\n",
      "('SNPJ', {'name': 'PATROCÍNIO', 'country': 'BRASIL', 'latitude': -18.909400939941406, 'longitude': -46.98270034790039, 'region': 'SUDESTE'})\n",
      "('SIFV', {'name': 'ARACRUZ', 'country': 'BRASIL', 'latitude': -19.825829, 'longitude': -40.102168, 'region': 'SUDESTE'})\n",
      "('SSKM', {'name': 'CAMPO MOURÃO', 'country': 'BRASIL', 'latitude': -24.0091991425, 'longitude': -52.3568000793, 'region': 'SUL'})\n",
      "('SBBG', {'name': 'BAGÉ', 'country': 'BRASIL', 'latitude': -31.39049911499, 'longitude': -54.112201690674, 'region': 'SUL'})\n",
      "('SNBI', {'name': 'BACABAL', 'country': 'BRASIL', 'latitude': -4.227709770202637, 'longitude': -44.81999969482422, 'region': 'NORDESTE'})\n",
      "('SBGS', {'name': 'PONTA GROSSA', 'country': 'BRASIL', 'latitude': -25.094919999999945, 'longitude': -50.16310999999996, 'region': 'SUL'})\n",
      "('SNMX', {'name': 'SÃO MATEUS', 'country': 'BRASIL', 'latitude': -18.72130012512207, 'longitude': -39.83369827270508, 'region': 'SUDESTE'})\n",
      "('SNBV', {'name': 'IPIXUNA DO PARÁ', 'country': 'BRASIL', 'latitude': -2.5233099460601807, 'longitude': -47.51739883422852, 'region': 'NORTE'})\n",
      "('SNBW', {'name': 'BAIÃO', 'country': 'BRASIL', 'latitude': -2.8002779483795166, 'longitude': -49.66722106933594, 'region': 'NORTE'})\n",
      "('SNCC', {'name': 'CALÇOENE', 'country': 'BRASIL', 'latitude': 2.514722, 'longitude': -50.952202, 'region': 'NORTE'})\n",
      "('SBLE', {'name': 'LENÇÓIS', 'country': 'BRASIL', 'latitude': -12.4822998047, 'longitude': -41.2770004272, 'region': 'NORDESTE'})\n",
      "('SDAA', {'name': 'ARARAS', 'country': 'BRASIL', 'latitude': -22.338227, 'longitude': -47.357898, 'region': 'SUDESTE'})\n",
      "('SSBB', {'name': 'BODOQUENA', 'country': 'BRASIL', 'latitude': -20.674999237060547, 'longitude': -56.62969970703125, 'region': 'CENTRO-OESTE'})\n",
      "('SSJA', {'name': 'JOAÇABA', 'country': 'BRASIL', 'latitude': -27.1714000702, 'longitude': -51.5532989502, 'region': 'SUL'})\n",
      "('SNDT', {'name': 'DIAMANTINA', 'country': 'BRASIL', 'latitude': -18.232000351, 'longitude': -43.6503982544, 'region': 'SUDESTE'})\n",
      "('SBCD', {'name': 'CAÇADOR', 'country': 'BRASIL', 'latitude': -26.78840065, 'longitude': -50.9398002625, 'region': 'SUL'})\n",
      "('SBUF', {'name': 'PAULO AFONSO', 'country': 'BRASIL', 'latitude': -9.4008798599243, 'longitude': -38.250598907471, 'region': 'NORDESTE'})\n",
      "('SNPX', {'name': 'PIRAPORA', 'country': 'BRASIL', 'latitude': -17.3169002532959, 'longitude': -44.86029815673828, 'region': 'SUDESTE'})\n",
      "('SILJ', {'name': 'LARANJAL DO JARI', 'country': 'BRASIL', 'latitude': -0.831374, 'longitude': -52.504075, 'region': 'NORTE'})\n",
      "('SNML', {'name': 'RIO LARGO', 'country': 'BRASIL', 'latitude': -9.54444408416748, 'longitude': -35.829444885253906, 'region': 'NORDESTE'})\n",
      "('SWEU', {'name': 'CARACARAÍ', 'country': 'BRASIL', 'latitude': 0.797558, 'longitude': -61.662983, 'region': 'NORTE'})\n",
      "('SNTP', {'name': 'TAILÂNDIA', 'country': 'BRASIL', 'latitude': -2.525278091430664, 'longitude': -48.75194549560547, 'region': 'NORTE'})\n",
      "('SNXW', {'name': 'CHAVES', 'country': 'BRASIL', 'latitude': -0.1661, 'longitude': -49.9794, 'region': 'NORTE'})\n",
      "('SJDB', {'name': 'BONITO', 'country': 'BRASIL', 'latitude': -20.48832999999996, 'longitude': -54.61451999999997, 'region': 'CENTRO-OESTE'})\n",
      "('SDAM', {'name': 'CAMPINAS', 'country': 'BRASIL', 'latitude': -22.85919952392578, 'longitude': -47.10820007324219, 'region': 'SUDESTE'})\n",
      "('SBJR', {'name': 'RIO DE JANEIRO', 'country': 'BRASIL', 'latitude': -22.987499, 'longitude': -43.369999, 'region': 'SUDESTE'})\n",
      "('SIMK', {'name': 'FRANCA', 'country': 'BRASIL', 'latitude': -20.592199, 'longitude': -47.3829, 'region': 'SUDESTE'})\n",
      "('SNJK', {'name': 'JEQUIÉ', 'country': 'BRASIL', 'latitude': -13.877699851989746, 'longitude': -40.07160186767578, 'region': 'NORDESTE'})\n",
      "('SDBB', {'name': 'BEBEDOURO', 'country': 'BRASIL', 'latitude': -20.900400161743164, 'longitude': -48.47330093383789, 'region': 'SUDESTE'})\n",
      "('SBCI', {'name': 'CAROLINA', 'country': 'BRASIL', 'latitude': -7.32043981552124, 'longitude': -47.45869827270508, 'region': 'NORDESTE'})\n",
      "('SNZA', {'name': 'POUSO ALEGRE', 'country': 'BRASIL', 'latitude': -22.28919982910156, 'longitude': -45.91910171508789, 'region': 'SUDESTE'})\n",
      "('SNJB', {'name': 'JACOBINA', 'country': 'BRASIL', 'latitude': -11.163200378417969, 'longitude': -40.5531005859375, 'region': 'NORDESTE'})\n",
      "('SNJD', {'name': 'FEIRA DE SANTANA', 'country': 'BRASIL', 'latitude': -12.2003, 'longitude': -38.906799, 'region': 'NORDESTE'})\n",
      "('SNVV', {'name': 'VALENTE', 'country': 'BRASIL', 'latitude': -11.411110877990724, 'longitude': -39.44333267211914, 'region': 'NORDESTE'})\n",
      "('SDLK', {'name': 'CACULÉ', 'country': 'BRASIL', 'latitude': -14.481200218200684, 'longitude': -42.26470184326172, 'region': 'NORDESTE'})\n",
      "('SJNP', {'name': 'NOVO PROGRESSO', 'country': 'BRASIL', 'latitude': -7.125833, 'longitude': -55.400833, 'region': 'NORTE'})\n",
      "('SWBZ', {'name': 'SORRISO', 'country': 'BRASIL', 'latitude': -12.60692, 'longitude': -55.764263, 'region': 'CENTRO-OESTE'})\n",
      "('SIKC', {'name': 'COLÍDER', 'country': 'BRASIL', 'latitude': -10.760403, 'longitude': -55.462283, 'region': 'CENTRO-OESTE'})\n",
      "('SIZX', {'name': 'JUARA', 'country': 'BRASIL', 'latitude': -11.2966, 'longitude': -57.5495, 'region': 'CENTRO-OESTE'})\n",
      "('SWEK', {'name': 'CANARANA', 'country': 'BRASIL', 'latitude': -13.574443817138672, 'longitude': -52.27055740356445, 'region': 'CENTRO-OESTE'})\n",
      "('SWVC', {'name': 'VILA RICA', 'country': 'BRASIL', 'latitude': -9.979443550109863, 'longitude': -51.1422233581543, 'region': 'CENTRO-OESTE'})\n",
      "('SWWD', {'name': 'BARCELOS', 'country': 'BRASIL', 'latitude': -1.691388889, 'longitude': -63.785, 'region': 'NORTE'})\n",
      "('SISO', {'name': 'CHAVES', 'country': 'BRASIL', 'latitude': -0.091666996479034, 'longitude': -49.580554962158, 'region': 'NORTE'})\n",
      "('SDVE', {'name': 'VERA CRUZ', 'country': 'BRASIL', 'latitude': -22.230199813842773, 'longitude': -49.81719970703125, 'region': 'SUDESTE'})\n",
      "('SDMC', {'name': 'MARICÁ', 'country': 'BRASIL', 'latitude': -22.9195, 'longitude': -42.830898, 'region': 'SUDESTE'})\n",
      "('SNKI', {'name': 'CACHOEIRO DE ITAPEMIRIM', 'country': 'BRASIL', 'latitude': -20.8342990875, 'longitude': -41.1856002808, 'region': 'SUDESTE'})\n",
      "('SDRS', {'name': 'RESENDE', 'country': 'BRASIL', 'latitude': -22.4785003662, 'longitude': -44.4803009033, 'region': 'SUDESTE'})\n",
      "('SDPA', {'name': 'MANGARATIBA', 'country': 'BRASIL', 'latitude': -22.927499771118164, 'longitude': -44.08000183105469, 'region': 'SUDESTE'})\n",
      "('SDTK', {'name': 'PARATY', 'country': 'BRASIL', 'latitude': -23.224044, 'longitude': -44.723357, 'region': 'SUDESTE'})\n",
      "('SNYB', {'name': 'ITUIUTABA', 'country': 'BRASIL', 'latitude': -18.999799728393555, 'longitude': -49.486698150634766, 'region': 'SUDESTE'})\n",
      "('SNMK', {'name': 'JAÍBA', 'country': 'BRASIL', 'latitude': -15.093000411987305, 'longitude': -43.97909927368164, 'region': 'SUDESTE'})\n",
      "('SNUB', {'name': 'UBÁ', 'country': 'BRASIL', 'latitude': -21.121000289916992, 'longitude': -42.88190078735352, 'region': 'SUDESTE'})\n",
      "('SILC', {'name': 'LUCAS DO RIO VERDE', 'country': 'BRASIL', 'latitude': -13.037861, 'longitude': -55.95025, 'region': 'CENTRO-OESTE'})\n",
      "('SSNM', {'name': 'GUARANTÃ DO NORTE', 'country': 'BRASIL', 'latitude': -9.965832710266112, 'longitude': -54.8849983215332, 'region': 'CENTRO-OESTE'})\n",
      "('SJKB', {'name': 'COTRIGUAÇU', 'country': 'BRASIL', 'latitude': -13.087501, 'longitude': -58.025833, 'region': 'CENTRO-OESTE'})\n",
      "('SNAH', {'name': 'ADUSTINA', 'country': 'BRASIL', 'latitude': -10.5809, 'longitude': -38.088799, 'region': 'NORDESTE'})\n",
      "('SNBU', {'name': 'BRUMADO', 'country': 'BRASIL', 'latitude': -14.2554, 'longitude': -41.817501, 'region': 'NORDESTE'})\n",
      "('SNQM', {'name': 'QUEIMADAS', 'country': 'BRASIL', 'latitude': -10.988332748413086, 'longitude': -39.62055587768555, 'region': 'NORDESTE'})\n",
      "('SJTC', {'name': 'AREALVA', 'country': 'BRASIL', 'latitude': -22.1668591409, 'longitude': -49.0502866745, 'region': 'SUDESTE'})\n",
      "('SWCD', {'name': 'ALEXÂNIA', 'country': 'BRASIL', 'latitude': -15.93529987335205, 'longitude': -48.64659881591797, 'region': 'CENTRO-OESTE'})\n",
      "('SWFN', {'name': 'MANAUS', 'country': 'BRASIL', 'latitude': -3.0727779865264893, 'longitude': -60.02111053466797, 'region': 'NORTE'})\n",
      "('SWOW', {'name': 'BARCELOS', 'country': 'BRASIL', 'latitude': -1.4669439792633057, 'longitude': -61.61722183227539, 'region': 'NORTE'})\n",
      "('SWPD', {'name': 'BONFIM', 'country': 'BRASIL', 'latitude': 2.7836110591888428, 'longitude': -60.58777618408203, 'region': 'NORTE'})\n",
      "('SJTS', {'name': 'TERRA SANTA', 'country': 'BRASIL', 'latitude': -2.0727779865264893, 'longitude': -56.488887786865234, 'region': 'NORTE'})\n",
      "('SSNH', {'name': 'NOVO HAMBURGO', 'country': 'BRASIL', 'latitude': -29.69610023498535, 'longitude': -51.08169937133789, 'region': 'SUL'})\n",
      "('SJRG', {'name': 'RIO GRANDE', 'country': 'BRASIL', 'latitude': -32.083065, 'longitude': -52.167184, 'region': 'SUL'})\n",
      "('SBLN', {'name': 'LINS', 'country': 'BRASIL', 'latitude': -21.663999557495, 'longitude': -49.730499267578, 'region': 'SUDESTE'})\n",
      "('SJUR', {'name': 'PORTO SEGURO', 'country': 'BRASIL', 'latitude': -16.450969999999927, 'longitude': -39.064619999999934, 'region': 'NORDESTE'})\n",
      "('SDDM', {'name': 'RIO DE JANEIRO', 'country': 'BRASIL', 'latitude': -22.9467, 'longitude': -43.1981, 'region': 'SUDESTE'})\n",
      "('SDJA', {'name': 'ITIRAPINA', 'country': 'BRASIL', 'latitude': -22.19472, 'longitude': -47.86167, 'region': 'SUDESTE'})\n",
      "('SWJW', {'name': 'JATAÍ', 'country': 'BRASIL', 'latitude': -17.8299007416, 'longitude': -51.7729988098, 'region': 'CENTRO-OESTE'})\n",
      "('SBCO', {'name': 'CANOAS', 'country': 'BRASIL', 'latitude': -29.945928, 'longitude': -51.144413, 'region': 'SUL'})\n",
      "('SDTF', {'name': 'TATUÍ', 'country': 'BRASIL', 'latitude': -23.331899642944336, 'longitude': -47.878299713134766, 'region': 'SUDESTE'})\n",
      "('SWBV', {'name': 'AMAJARI', 'country': 'BRASIL', 'latitude': 4.003466, 'longitude': -64.493635, 'region': 'NORTE'})\n",
      "('SJQK', {'name': 'BOA VISTA', 'country': 'BRASIL', 'latitude': 2.6955599784851074, 'longitude': -60.81420135498047, 'region': 'NORTE'})\n",
      "('SSBN', {'name': 'PORTO ALEGRE', 'country': 'BRASIL', 'latitude': -30.18777847290039, 'longitude': -51.18277740478516, 'region': 'SUL'})\n",
      "('SBTR', {'name': 'TORRES', 'country': 'BRASIL', 'latitude': -29.41489982605, 'longitude': -49.810001373291, 'region': 'SUL'})\n",
      "('SNYV', {'name': 'MOJU', 'country': 'BRASIL', 'latitude': -2.1197218894958496, 'longitude': -48.64583206176758, 'region': 'NORTE'})\n",
      "('SNUO', {'name': 'ULIANÓPOLIS', 'country': 'BRASIL', 'latitude': -1.3028599999999528, 'longitude': -48.05421999999993, 'region': 'NORTE'})\n",
      "('SWXV', {'name': 'NOVA XAVANTINA', 'country': 'BRASIL', 'latitude': -14.6983003616333, 'longitude': -52.34640121459961, 'region': 'CENTRO-OESTE'})\n",
      "('SJHG', {'name': 'CONFRESA', 'country': 'BRASIL', 'latitude': -10.634400367736816, 'longitude': -51.5635986328125, 'region': 'CENTRO-OESTE'})\n",
      "('SNBS', {'name': 'BALSAS', 'country': 'BRASIL', 'latitude': -7.52603006362915, 'longitude': -46.05329895019531, 'region': 'NORDESTE'})\n",
      "('SNKE', {'name': 'SANTANA DO ARAGUAIA', 'country': 'BRASIL', 'latitude': -9.31997013092041, 'longitude': -50.32849884033203, 'region': 'NORTE'})\n",
      "('SBAG', {'name': 'ANGRA DOS REIS', 'country': 'BRASIL', 'latitude': -22.74775290531457, 'longitude': -47.31921583892206, 'region': 'SUDESTE'})\n",
      "('SNJR', {'name': 'SÃO JOÃO DEL REI', 'country': 'BRASIL', 'latitude': -21.0849990845, 'longitude': -44.2247238159, 'region': 'SUDESTE'})\n",
      "('SBPI', {'name': 'PETRÓPOLIS', 'country': 'BRASIL', 'latitude': -22.50782999999996, 'longitude': -43.170699999999954, 'region': 'SUDESTE'})\n",
      "('SBCN', {'name': 'CALDAS NOVAS', 'country': 'BRASIL', 'latitude': -17.725299835205, 'longitude': -48.607498168945, 'region': 'CENTRO-OESTE'})\n",
      "('SNGQ', {'name': 'RONDON DO PARÁ', 'country': 'BRASIL', 'latitude': -4.250833034515381, 'longitude': -48.7680549621582, 'region': 'NORTE'})\n",
      "('SNWR', {'name': 'SENADOR JOSÉ PORFÍRIO', 'country': 'BRASIL', 'latitude': -2.636590003967285, 'longitude': -51.82699966430664, 'region': 'NORTE'})\n",
      "('SSBE', {'name': 'CAMAPUÃ', 'country': 'BRASIL', 'latitude': -19.5984001159668, 'longitude': -54.02109909057617, 'region': 'CENTRO-OESTE'})\n",
      "('SNXL', {'name': 'QUERÊNCIA', 'country': 'BRASIL', 'latitude': -12.616667, 'longitude': -52.153889, 'region': 'CENTRO-OESTE'})\n",
      "('SWHP', {'name': 'ÁGUA BOA', 'country': 'BRASIL', 'latitude': -14.019444, 'longitude': -52.152222, 'region': 'CENTRO-OESTE'})\n",
      "('SNNT', {'name': 'NOVA PONTE', 'country': 'BRASIL', 'latitude': -19.198400497436523, 'longitude': -47.72869873046875, 'region': 'SUDESTE'})\n",
      "('SJLU', {'name': 'CARACARAÍ', 'country': 'BRASIL', 'latitude': 1.7408299446105957, 'longitude': -62.286399841308594, 'region': 'NORTE'})\n",
      "('SWQR', {'name': 'BOA VISTA', 'country': 'BRASIL', 'latitude': 2.675832986831665, 'longitude': -60.77861022949219, 'region': 'NORTE'})\n",
      "('SBGU', {'name': 'GUARAPUAVA', 'country': 'BRASIL', 'latitude': -25.387501, 'longitude': -51.520199, 'region': 'SUL'})\n",
      "('SIXE', {'name': 'ELDORADO DO SUL', 'country': 'BRASIL', 'latitude': -30.050277709960938, 'longitude': -51.44361114501953, 'region': 'SUL'})\n",
      "('SSCN', {'name': 'CANELA', 'country': 'BRASIL', 'latitude': -29.37019920349121, 'longitude': -50.83200073242188, 'region': 'SUL'})\n",
      "('SSIJ', {'name': 'IJUÍ', 'country': 'BRASIL', 'latitude': -28.36870002746582, 'longitude': -53.84659957885742, 'region': 'SUL'})\n",
      "('SNCI', {'name': 'CAPANEMA', 'country': 'BRASIL', 'latitude': -1.2309999465942385, 'longitude': -47.20059967041016, 'region': 'NORTE'})\n",
      "('SNPC', {'name': 'PICOS', 'country': 'BRASIL', 'latitude': -7.0620598793029785, 'longitude': -41.52370071411133, 'region': 'NORDESTE'})\n",
      "('SDLU', {'name': 'BARRA BONITA', 'country': 'BRASIL', 'latitude': -22.48310089111328, 'longitude': -48.52450180053711, 'region': 'SUDESTE'})\n",
      "('SBDB', {'name': 'BONITO', 'country': 'BRASIL', 'latitude': -21.2473, 'longitude': -56.4525, 'region': 'CENTRO-OESTE'})\n",
      "('SBGP', {'name': 'GAVIÃO PEIXOTO', 'country': 'BRASIL', 'latitude': -21.773700714111328, 'longitude': -48.40510177612305, 'region': 'SUDESTE'})\n",
      "('SNPY', {'name': 'SÃO SEBASTIÃO DO PARAÍSO', 'country': 'BRASIL', 'latitude': -20.94820022583008, 'longitude': -46.98320007324219, 'region': 'SUDESTE'})\n",
      "('SWAE', {'name': 'ALTO ALEGRE', 'country': 'BRASIL', 'latitude': 3.551929, 'longitude': -63.169445, 'region': 'NORTE'})\n",
      "('SWBU', {'name': 'PEIXOTO DE AZEVEDO', 'country': 'BRASIL', 'latitude': -10.215556144714355, 'longitude': -55.08305740356445, 'region': 'CENTRO-OESTE'})\n",
      "('SJCW', {'name': 'URUCARÁ', 'country': 'BRASIL', 'latitude': -1.712049961090088, 'longitude': -58.51119995117188, 'region': 'NORTE'})\n",
      "('SWPC', {'name': 'SÃO GABRIEL DA CACHOEIRA', 'country': 'BRASIL', 'latitude': 0.2630560100078583, 'longitude': -69.7955551147461, 'region': 'NORTE'})\n",
      "('SSSC', {'name': 'SANTA CRUZ DO SUL', 'country': 'BRASIL', 'latitude': -29.68409919738769, 'longitude': -52.412200927734375, 'region': 'SUL'})\n",
      "('SBAE', {'name': 'AREALVA', 'country': 'BRASIL', 'latitude': -22.15778, 'longitude': -49.06833, 'region': 'SUDESTE'})\n",
      "('SBJI', {'name': 'JI-PARANÁ', 'country': 'BRASIL', 'latitude': -10.911089940802947, 'longitude': -61.91921801591672, 'region': 'NORTE'})\n",
      "('SNAP', {'name': 'JANAÚBA', 'country': 'BRASIL', 'latitude': -15.732, 'longitude': -43.323102, 'region': 'SUDESTE'})\n",
      "('SBTV', {'name': 'PORTO SEGURO', 'country': 'BRASIL', 'latitude': -16.54083251953125, 'longitude': -39.1077766418457, 'region': 'NORDESTE'})\n",
      "('SBUY', {'name': 'COARI', 'country': 'BRASIL', 'latitude': -3.125148792651377, 'longitude': -60.03608967492183, 'region': 'NORTE'})\n",
      "('SBZM', {'name': 'GOIANÁ', 'country': 'BRASIL', 'latitude': -21.513086, 'longitude': -43.173069, 'region': 'SUDESTE'})\n",
      "('SJLM', {'name': 'PACARAIMA', 'country': 'BRASIL', 'latitude': 4.151669979095459, 'longitude': -61.42779922485352, 'region': 'NORTE'})\n",
      "('SSFB', {'name': 'FRANCISCO BELTRÃO', 'country': 'BRASIL', 'latitude': -26.059200286865234, 'longitude': -53.0634994506836, 'region': 'SUL'})\n",
      "('SBYS', {'name': 'PIRASSUNUNGA', 'country': 'BRASIL', 'latitude': -21.984600067138672, 'longitude': -47.33480072021485, 'region': 'SUDESTE'})\n",
      "('SSKW', {'name': 'CACOAL', 'country': 'BRASIL', 'latitude': -11.496, 'longitude': -61.4508, 'region': 'NORTE'})\n",
      "('SWGP', {'name': 'PALMEIRAS DE GOIÁS', 'country': 'BRASIL', 'latitude': -16.826900482177734, 'longitude': -49.87889862060547, 'region': 'CENTRO-OESTE'})\n",
      "('SWDE', {'name': 'SÃO MIGUEL DO ARAGUAIA', 'country': 'BRASIL', 'latitude': -12.822572, 'longitude': -50.328188, 'region': 'CENTRO-OESTE'})\n",
      "('SWHG', {'name': 'SANTA HELENA DE GOIÁS', 'country': 'BRASIL', 'latitude': -17.883888244628906, 'longitude': -50.56722259521485, 'region': 'CENTRO-OESTE'})\n",
      "('SWIQ', {'name': 'MINAÇU', 'country': 'BRASIL', 'latitude': -16.253079999999954, 'longitude': -47.94987999999995, 'region': 'CENTRO-OESTE'})\n",
      "('SBJD', {'name': 'JUNDIAÍ', 'country': 'BRASIL', 'latitude': -23.180369, 'longitude': -46.944408, 'region': 'SUDESTE'})\n",
      "('SBDO', {'name': 'DOURADOS', 'country': 'BRASIL', 'latitude': -20.48832999999996, 'longitude': -54.61451999999997, 'region': 'CENTRO-OESTE'})\n",
      "('SWDB', {'name': 'BARRA DO GARÇAS', 'country': 'BRASIL', 'latitude': -15.576944, 'longitude': -52.218887, 'region': 'CENTRO-OESTE'})\n",
      "('SWYY', {'name': 'NOVA XAVANTINA', 'country': 'BRASIL', 'latitude': -14.887778282165527, 'longitude': -52.27694320678711, 'region': 'CENTRO-OESTE'})\n",
      "('SNMH', {'name': 'PIRENÓPOLIS', 'country': 'BRASIL', 'latitude': -4.476961, 'longitude': -43.889902, 'region': 'CENTRO-OESTE'})\n",
      "('SJGU', {'name': 'ARAGUATINS', 'country': 'BRASIL', 'latitude': -5.6844401359558105, 'longitude': -48.1156005859375, 'region': 'NORTE'})\n",
      "('SSOE', {'name': 'SÃO MIGUEL DO OESTE', 'country': 'BRASIL', 'latitude': -26.78160095214844, 'longitude': -53.50350189208984, 'region': 'SUL'})\n",
      "('SBTG', {'name': 'TRÊS LAGOAS', 'country': 'BRASIL', 'latitude': -20.48832999999996, 'longitude': -54.61451999999997, 'region': 'CENTRO-OESTE'})\n",
      "('SSTL', {'name': 'TRÊS LAGOAS', 'country': 'BRASIL', 'latitude': -20.754199981689, 'longitude': -51.684200286865, 'region': 'CENTRO-OESTE'})\n",
      "('SWCB', {'name': 'CAMPOS BELOS', 'country': 'BRASIL', 'latitude': -13.006213, 'longitude': -46.711208, 'region': 'CENTRO-OESTE'})\n",
      "('SDOV', {'name': 'MOZARLÂNDIA', 'country': 'BRASIL', 'latitude': -14.770400047302246, 'longitude': -50.5640983581543, 'region': 'CENTRO-OESTE'})\n",
      "('SJVO', {'name': 'ARAGARÇAS', 'country': 'BRASIL', 'latitude': -15.8994, 'longitude': -52.2411, 'region': 'CENTRO-OESTE'})\n",
      "('SNPP', {'name': 'CAIRUI', 'country': 'BRASIL', 'latitude': -13.428781, 'longitude': -38.913689, 'region': 'NORDESTE'})\n",
      "('SWWA', {'name': 'PORANGATU', 'country': 'BRASIL', 'latitude': -13.404800415039062, 'longitude': -49.15829849243164, 'region': 'CENTRO-OESTE'})\n",
      "('SBSG', {'name': 'SÃO GONÇALO DO AMARANTE', 'country': 'BRASIL', 'latitude': -5.768056, 'longitude': -35.376111, 'region': 'NORDESTE'})\n",
      "('SIRI', {'name': 'MARAÚ', 'country': 'BRASIL', 'latitude': -13.906044, 'longitude': -38.939978, 'region': 'NORDESTE'})\n",
      "('SSCL', {'name': 'CASSILÂNDIA', 'country': 'BRASIL', 'latitude': -19.146861, 'longitude': -51.676941, 'region': 'CENTRO-OESTE'})\n",
      "('SSRS', {'name': 'BARREIRINHAS', 'country': 'BRASIL', 'latitude': -27.191944122314453, 'longitude': -49.831390380859375, 'region': 'NORDESTE'})\n",
      "('SWZM', {'name': 'SÃO SIMÃO', 'country': 'BRASIL', 'latitude': -18.986499786376957, 'longitude': -50.5635986328125, 'region': 'CENTRO-OESTE'})\n",
      "('SNBX', {'name': 'BARRA', 'country': 'BRASIL', 'latitude': -11.08080005645752, 'longitude': -43.147499084472656, 'region': 'NORDESTE'})\n",
      "('SWWU', {'name': 'URUAÇU', 'country': 'BRASIL', 'latitude': -14.525555610656738, 'longitude': -49.13777923583984, 'region': 'CENTRO-OESTE'})\n",
      "('SNMJ', {'name': 'MARACÁS', 'country': 'BRASIL', 'latitude': -13.4333000183, 'longitude': -40.4333000183, 'region': 'NORDESTE'})\n",
      "('SNBM', {'name': 'MURIAÉ', 'country': 'BRASIL', 'latitude': -21.126100540161133, 'longitude': -42.39440155029297, 'region': 'SUDESTE'})\n",
      "('SIQE', {'name': 'BRASÍLIA', 'country': 'BRASIL', 'latitude': -15.937469, 'longitude': -47.726636, 'region': 'CENTRO-OESTE'})\n",
      "('SNQW', {'name': 'JACAREACANGA', 'country': 'BRASIL', 'latitude': -7.564736, 'longitude': -57.739871, 'region': 'NORTE'})\n",
      "('SSNC', {'name': 'APORÉ', 'country': 'BRASIL', 'latitude': -16.253079999999954, 'longitude': -47.94987999999995, 'region': 'CENTRO-OESTE'})\n",
      "('SSND', {'name': 'SÃO FÉLIX DO ARAGUAIA', 'country': 'BRASIL', 'latitude': -11.16, 'longitude': -52.82, 'region': 'CENTRO-OESTE'})\n",
      "('SWNH', {'name': 'ARUANÃ', 'country': 'BRASIL', 'latitude': -14.932499885559082, 'longitude': -51.048099517822266, 'region': 'CENTRO-OESTE'})\n",
      "('SWUA', {'name': 'SÃO MIGUEL DO ARAGUAIA', 'country': 'BRASIL', 'latitude': -13.331299781799316, 'longitude': -50.197601318359375, 'region': 'CENTRO-OESTE'})\n",
      "('SJQP', {'name': 'COCALINHO', 'country': 'BRASIL', 'latitude': -14.395329999999944, 'longitude': -51.00648999999999, 'region': 'CENTRO-OESTE'})\n",
      "('SSAC', {'name': 'SORRISO', 'country': 'BRASIL', 'latitude': -19.7080554962, 'longitude': -55.4211120605, 'region': 'CENTRO-OESTE'})\n",
      "('SBIT', {'name': 'ITUMBIARA', 'country': 'BRASIL', 'latitude': -18.4447002411, 'longitude': -49.2134017944, 'region': 'CENTRO-OESTE'})\n",
      "('SNDH', {'name': 'BARREIRAS', 'country': 'BRASIL', 'latitude': -12.162858, 'longitude': -45.033695, 'region': 'NORDESTE'})\n",
      "('SNIC', {'name': 'IRECÊ', 'country': 'BRASIL', 'latitude': -11.339900016784668, 'longitude': -41.84700012207031, 'region': 'NORDESTE'})\n",
      "('SBFE', {'name': 'FEIRA DE SANTANA', 'country': 'BRASIL', 'latitude': -12.222081456121616, 'longitude': -38.98125961053839, 'region': 'NORDESTE'})\n",
      "('SBRD', {'name': 'RONDONÓPOLIS', 'country': 'BRASIL', 'latitude': -16.46586999999994, 'longitude': -54.62233999999995, 'region': 'CENTRO-OESTE'})\n",
      "('SBJA', {'name': 'JAGUARUNA', 'country': 'BRASIL', 'latitude': -28.6753, 'longitude': -49.0596, 'region': 'SUL'})\n",
      "('SNAV', {'name': 'JUAZEIRO', 'country': 'BRASIL', 'latitude': -9.50417, 'longitude': -40.36944, 'region': 'NORDESTE'})\n",
      "('SNUU', {'name': 'UAUÁ', 'country': 'BRASIL', 'latitude': -9.835000038146973, 'longitude': -39.49444580078125, 'region': 'NORDESTE'})\n",
      "('SNIU', {'name': 'IPIAÚ', 'country': 'BRASIL', 'latitude': -14.133889198303224, 'longitude': -39.73389053344727, 'region': 'NORDESTE'})\n",
      "('SBSO', {'name': 'SORRISO', 'country': 'BRASIL', 'latitude': -12.479177, 'longitude': -55.672341, 'region': 'CENTRO-OESTE'})\n",
      "('SSZW', {'name': 'PONTA GROSSA', 'country': 'BRASIL', 'latitude': -25.1847, 'longitude': -50.1441, 'region': 'SUL'})\n",
      "('SWNB', {'name': 'LUÍS EDUARDO MAGALHÃES', 'country': 'BRASIL', 'latitude': -14.70722198486328, 'longitude': -56.33833312988281, 'region': 'NORDESTE'})\n",
      "('SNIP', {'name': 'ITAPETINGA', 'country': 'BRASIL', 'latitude': -15.244500160217283, 'longitude': -40.27719879150391, 'region': 'NORDESTE'})\n",
      "('SBJE', {'name': 'CRUZ', 'country': 'BRASIL', 'latitude': -4.443559999999934, 'longitude': -40.79960999999997, 'region': 'NORDESTE'})\n",
      "('SNAR', {'name': 'ALMENARA', 'country': 'BRASIL', 'latitude': -16.18389, 'longitude': -40.66722, 'region': 'SUDESTE'})\n",
      "('SNCT', {'name': 'UBAPORANGA', 'country': 'BRASIL', 'latitude': -19.72529983520508, 'longitude': -42.112098693847656, 'region': 'SUDESTE'})\n",
      "('SNJM', {'name': 'MANHUAÇU', 'country': 'BRASIL', 'latitude': -20.259721755981445, 'longitude': -42.18388748168945, 'region': 'SUDESTE'})\n",
      "('SNVC', {'name': 'VIÇOSA', 'country': 'BRASIL', 'latitude': -20.744722366333008, 'longitude': -42.84194564819336, 'region': 'SUDESTE'})\n",
      "('SNNU', {'name': 'NANUQUE', 'country': 'BRASIL', 'latitude': -17.823299407958984, 'longitude': -40.32989883422852, 'region': 'SUDESTE'})\n",
      "('SNOS', {'name': 'PASSOS', 'country': 'BRASIL', 'latitude': -20.732200622558597, 'longitude': -46.66180038452149, 'region': 'SUDESTE'})\n",
      "('SNZR', {'name': 'PARACATU', 'country': 'BRASIL', 'latitude': -17.242599487304688, 'longitude': -46.88309860229492, 'region': 'SUDESTE'})\n",
      "('SNFO', {'name': 'FORMIGA', 'country': 'BRASIL', 'latitude': -20.395299911499023, 'longitude': -45.48360061645508, 'region': 'SUDESTE'})\n",
      "('SNGX', {'name': 'GUAXUPÉ', 'country': 'BRASIL', 'latitude': -21.326400756835938, 'longitude': -46.731201171875, 'region': 'SUDESTE'})\n",
      "('SNUH', {'name': 'PIUMHI', 'country': 'BRASIL', 'latitude': -20.438600540200003, 'longitude': -45.9928016663, 'region': 'SUDESTE'})\n",
      "('SWLF', {'name': 'CAMPO FLORIDO', 'country': 'BRASIL', 'latitude': -15.620278358459473, 'longitude': -58.20888900756836, 'region': 'SUDESTE'})\n",
      "('SNXB', {'name': 'CAXAMBU', 'country': 'BRASIL', 'latitude': -21.91699981689453, 'longitude': -44.96820068359375, 'region': 'SUDESTE'})\n",
      "('SSAB', {'name': 'IBAITI', 'country': 'BRASIL', 'latitude': -23.762199, 'longitude': -50.263, 'region': 'SUL'})\n",
      "('SNHS', {'name': 'SERRA TALHADA', 'country': 'BRASIL', 'latitude': -8.0623998642, 'longitude': -38.3288002014, 'region': 'NORDESTE'})\n",
      "('SBPG', {'name': 'PONTA GROSSA', 'country': 'BRASIL', 'latitude': -25.094919999999945, 'longitude': -50.16310999999996, 'region': 'SUL'})\n",
      "('SSOU', {'name': 'ARIPUANÃ', 'country': 'BRASIL', 'latitude': -17.036942, 'longitude': -46.260277, 'region': 'CENTRO-OESTE'})\n",
      "('SSCP', {'name': 'CORNÉLIO PROCÓPIO', 'country': 'BRASIL', 'latitude': -23.15250015258789, 'longitude': -50.602500915527344, 'region': 'SUL'})\n",
      "('SSCT', {'name': 'CIANORTE', 'country': 'BRASIL', 'latitude': -23.691499710083008, 'longitude': -52.64189910888672, 'region': 'SUL'})\n",
      "('SSGY', {'name': 'GUAÍRA', 'country': 'BRASIL', 'latitude': -24.081100463867188, 'longitude': -54.19169998168945, 'region': 'SUDESTE'})\n",
      "('SSOG', {'name': 'ARAPONGAS', 'country': 'BRASIL', 'latitude': -23.3529, 'longitude': -51.491699, 'region': 'SUL'})\n",
      "('SSPI', {'name': 'PARANAVAÍ', 'country': 'BRASIL', 'latitude': -23.08989906311035, 'longitude': -52.48849868774414, 'region': 'SUL'})\n",
      "('SSUV', {'name': 'UNIÃO DA VITÓRIA', 'country': 'BRASIL', 'latitude': -26.2334, 'longitude': -51.067797, 'region': 'SUL'})\n",
      "('SSVL', {'name': 'TELÊMACO BORBA', 'country': 'BRASIL', 'latitude': -22.521667, 'longitude': -54.677776, 'region': 'SUL'})\n",
      "('SSSB', {'name': 'SÃO BORJA', 'country': 'BRASIL', 'latitude': -28.6549, 'longitude': -56.034599, 'region': 'SUL'})\n",
      "('SBPO', {'name': 'PATO BRANCO', 'country': 'BRASIL', 'latitude': -26.26893999999993, 'longitude': -52.70661999999999, 'region': 'SUL'})\n",
      "('SBSI', {'name': 'SINOP', 'country': 'BRASIL', 'latitude': -15.642259999999965, 'longitude': -56.12584999999996, 'region': 'CENTRO-OESTE'})\n",
      "('SBVC', {'name': 'VITÓRIA DA CONQUISTA', 'country': 'BRASIL', 'latitude': -14.84511727935257, 'longitude': -40.82990917958095, 'region': 'NORDESTE'})\n",
      "('SNJN', {'name': 'JANUÁRIA', 'country': 'BRASIL', 'latitude': -15.473799705505373, 'longitude': -44.385501861572266, 'region': 'SUDESTE'})\n",
      "('SBAC', {'name': 'ARACATI', 'country': 'BRASIL', 'latitude': -4.568611, 'longitude': -37.804722, 'region': 'NORDESTE'})\n",
      "('SDZG', {'name': 'TAUÁ', 'country': 'BRASIL', 'latitude': -5.9334, 'longitude': -40.2975, 'region': 'NORDESTE'})\n",
      "('SNWS', {'name': 'CRATEÚS', 'country': 'BRASIL', 'latitude': -5.211349964141846, 'longitude': -40.704200744628906, 'region': 'NORDESTE'})\n",
      "('SWBE', {'name': 'SÃO BENEDITO', 'country': 'BRASIL', 'latitude': -4.0428, 'longitude': -40.8938, 'region': 'NORDESTE'})\n",
      "('SDWQ', {'name': 'ALENQUER', 'country': 'BRASIL', 'latitude': -1.3028599999999528, 'longitude': -48.05421999999993, 'region': 'NORTE'})\n",
      "('SNRJ', {'name': 'BREJO', 'country': 'BRASIL', 'latitude': -3.6669440269470215, 'longitude': -42.83388900756836, 'region': 'NORDESTE'})\n",
      "('SNSG', {'name': 'SALGUEIRO', 'country': 'BRASIL', 'latitude': -8.047160148620605, 'longitude': -39.13639831542969, 'region': 'NORDESTE'})\n",
      "('SSSK', {'name': 'CODÓ', 'country': 'BRASIL', 'latitude': -12.92581999999993, 'longitude': -38.317079999999976, 'region': 'NORDESTE'})\n",
      "('SWRF', {'name': 'PEDREIRAS', 'country': 'BRASIL', 'latitude': -13.183611, 'longitude': -57.983891, 'region': 'NORDESTE'})\n",
      "('SDIM', {'name': 'ITANHAÉM', 'country': 'BRASIL', 'latitude': -24.164722442626957, 'longitude': -46.78555679321289, 'region': 'SUDESTE'})\n",
      "('SNGA', {'name': 'GUARAPARI', 'country': 'BRASIL', 'latitude': -20.646499633800005, 'longitude': -40.491901397700005, 'region': 'SUDESTE'})\n",
      "('SSTE', {'name': 'TORRES', 'country': 'BRASIL', 'latitude': -29.971359999999947, 'longitude': -51.62778999999995, 'region': 'SUL'})\n",
      "('SBMI', {'name': 'MARICÁ', 'country': 'BRASIL', 'latitude': -22.87451898075928, 'longitude': -43.77308758725348, 'region': 'SUDESTE'})\n",
      "('SDNM', {'name': 'NOVA MUTUM', 'country': 'BRASIL', 'latitude': -22.44750022888184, 'longitude': -43.12833404541016, 'region': 'CENTRO-OESTE'})\n",
      "('SWBG', {'name': 'PONTES E LACERDA', 'country': 'BRASIL', 'latitude': -15.1934, 'longitude': -59.3848, 'region': 'CENTRO-OESTE'})\n",
      "('SWPY', {'name': 'PRIMAVERA DO LESTE', 'country': 'BRASIL', 'latitude': -15.565555572509766, 'longitude': -54.33777618408203, 'region': 'CENTRO-OESTE'})\n",
      "('SNCL', {'name': 'CAIRU', 'country': 'BRASIL', 'latitude': -13.389444351196287, 'longitude': -38.90999984741211, 'region': 'NORDESTE'})\n",
      "('SNEE', {'name': 'VACARIA', 'country': 'BRASIL', 'latitude': -12.805859, 'longitude': -38.243752, 'region': 'SUL'})\n",
      "('SBBP', {'name': 'BRAGANÇA PAULISTA', 'country': 'BRASIL', 'latitude': -22.979162, 'longitude': -46.537508, 'region': 'SUDESTE'})\n",
      "('SWPH', {'name': 'BARRA DO GARÇAS', 'country': 'BRASIL', 'latitude': -15.22611141204834, 'longitude': -52.130001068115234, 'region': 'CENTRO-OESTE'})\n",
      "('SDH2', {'name': 'PORTO ALEGRE DO NORTE', 'country': 'BRASIL', 'latitude': -10.879859999999953, 'longitude': -51.63143999999994, 'region': 'CENTRO-OESTE'})\n",
      "('SSAP', {'name': 'APUCARANA', 'country': 'BRASIL', 'latitude': -23.609501, 'longitude': -51.384499, 'region': 'SUL'})\n",
      "('SNCP', {'name': 'CORREIA PINTO', 'country': 'BRASIL', 'latitude': -1.2502779960632324, 'longitude': -46.0172233581543, 'region': 'SUL'})\n",
      "('SSGG', {'name': 'GUARAPUAVA', 'country': 'BRASIL', 'latitude': -21.02777862548828, 'longitude': -57.49722290039063, 'region': 'SUL'})\n",
      "('SNGN', {'name': 'GARANHUNS', 'country': 'BRASIL', 'latitude': -8.834280014038086, 'longitude': -36.47159957885742, 'region': 'NORDESTE'})\n",
      "('SBGW', {'name': 'GUARATINGUETÁ', 'country': 'BRASIL', 'latitude': -22.79159927368164, 'longitude': -45.20479965209961, 'region': 'SUDESTE'})\n",
      "('SIFC', {'name': 'IGARASSU', 'country': 'BRASIL', 'latitude': -20.382221221923828, 'longitude': -56.268890380859375, 'region': 'NORDESTE'})\n",
      "('SWKQ', {'name': 'SÃO RAIMUNDO NONATO', 'country': 'BRASIL', 'latitude': -9.082778, 'longitude': -42.644444, 'region': 'NORDESTE'})\n",
      "('SBJH', {'name': 'SÃO ROQUE', 'country': 'BRASIL', 'latitude': -23.426886, 'longitude': -47.165658, 'region': 'SUDESTE'})\n",
      "('SNDQ', {'name': 'SÃO DESIDÉRIO', 'country': 'BRASIL', 'latitude': -12.92111110687256, 'longitude': -45.56944274902344, 'region': 'NORDESTE'})\n",
      "('SSAE', {'name': 'ARROIO GRANDE', 'country': 'BRASIL', 'latitude': -32.22416687011719, 'longitude': -53.06722259521485, 'region': 'SUL'})\n",
      "('SWJQ', {'name': 'SELVÍRIA', 'country': 'BRASIL', 'latitude': -20.22694396972656, 'longitude': -51.84583282470703, 'region': 'CENTRO-OESTE'})\n",
      "('SBER', {'name': 'EIRUNEPÉ', 'country': 'BRASIL', 'latitude': -6.663039999999967, 'longitude': -69.86730999999997, 'region': 'NORTE'})\n",
      "('SNLO', {'name': 'SÃO LOURENÇO', 'country': 'BRASIL', 'latitude': -22.090900421142575, 'longitude': -45.04449844360352, 'region': 'SUDESTE'})\n",
      "('SNCX', {'name': 'COLATINA', 'country': 'BRASIL', 'latitude': -19.48699951171875, 'longitude': -40.57939910888672, 'region': 'SUDESTE'})\n",
      "('SSOK', {'name': 'LONDRINA', 'country': 'BRASIL', 'latitude': -23.2141666412, 'longitude': -51.1858329773, 'region': 'SUL'})\n",
      "Graph with 510 nodes and 4568 edges\n"
     ]
    }
   ],
   "source": [
    "nodes_to_remove = []\n",
    "\n",
    "for node_data in G.nodes(data=True):\n",
    "    if node_data[1]['country'] != 'BRASIL': # if the country is not brazil, we will discard them from the graph.\n",
    "        nodes_to_remove.append(node_data[0])\n",
    "\n",
    "G.remove_nodes_from(nodes_to_remove)\n",
    "\n",
    "for node_data in G.nodes(data=True):\n",
    "    print(node_data)\n",
    "\n",
    "print(G)"
   ]
  },
  {
   "attachments": {},
   "cell_type": "markdown",
   "metadata": {},
   "source": [
    "As you can see, now we have airports in Brazil only. The first requirement of this analysis project is to calculate the assortativity coefficient with respect to the 'region' attribute of each node (airport)."
   ]
  },
  {
   "cell_type": "code",
   "execution_count": 5,
   "metadata": {},
   "outputs": [
    {
     "data": {
      "text/plain": [
       "0.3725974224135195"
      ]
     },
     "execution_count": 5,
     "metadata": {},
     "output_type": "execute_result"
    }
   ],
   "source": [
    "nx.attribute_assortativity_coefficient(G, 'region')"
   ]
  },
  {
   "attachments": {},
   "cell_type": "markdown",
   "metadata": {},
   "source": [
    "As you can see, the positive value of the assortativity coefficient implies that indeed there is a tendency for flights to occur between airports that are in the same region. We can vizualize this better if we take a look at a map that represents the network:"
   ]
  },
  {
   "cell_type": "code",
   "execution_count": 6,
   "metadata": {},
   "outputs": [],
   "source": [
    "#import pyplot\n",
    "from matplotlib import pyplot as plt"
   ]
  },
  {
   "cell_type": "code",
   "execution_count": 33,
   "metadata": {},
   "outputs": [
    {
     "data": {
      "image/png": "[encoded data removed]",
      "text/plain": [
       "<Figure size 640x480 with 1 Axes>"
      ]
     },
     "metadata": {},
     "output_type": "display_data"
    }
   ],
   "source": [
    "x = [float(coord) for coord in [node[1]['longitude'] for node in G.nodes(data=True)]]\n",
    "y = [float(coord) for coord in [node[1]['latitude'] for node in G.nodes(data=True)]]\n",
    "#img = plt.imread('brazilregions.png')\n",
    "#fig, ax = plt.subplots()\n",
    "#ax.imshow(img, extent=[-73.99055556, -34.79305556, -33.75194444, 5.571944444])\n",
    "plt.scatter(x, y, s=1.5, c='purple')\n",
    "plt.savefig(fname='graph.png', dpi=800)"
   ]
  },
  {
   "cell_type": "code",
   "execution_count": 22,
   "metadata": {},
   "outputs": [
    {
     "name": "stdout",
     "output_type": "stream",
     "text": [
      "SWJV\n"
     ]
    }
   ],
   "source": [
    "for node in G.nodes(data=True):\n",
    "    if min(x) == float(node[1]['longitude']):\n",
    "        print(node[0])"
   ]
  },
  {
   "cell_type": "code",
   "execution_count": 6,
   "metadata": {},
   "outputs": [
    {
     "data": {
      "text/plain": [
       "array([[0.07267951, 0.00711471, 0.01335377, 0.04060858, 0.01204028],\n",
       "       [0.00711471, 0.13222417, 0.02035902, 0.02758319, 0.02287653],\n",
       "       [0.01335377, 0.02035902, 0.08231173, 0.05461909, 0.0107268 ],\n",
       "       [0.04060858, 0.02758319, 0.05461909, 0.17294221, 0.0339317 ],\n",
       "       [0.01204028, 0.02287653, 0.0107268 , 0.0339317 , 0.05341506]])"
      ]
     },
     "execution_count": 6,
     "metadata": {},
     "output_type": "execute_result"
    }
   ],
   "source": [
    "nx.attribute_mixing_matrix(G, \"region\")"
   ]
  },
  {
   "cell_type": "code",
   "execution_count": 7,
   "metadata": {},
   "outputs": [
    {
     "data": {
      "text/plain": [
       "-0.19605264855558172"
      ]
     },
     "execution_count": 7,
     "metadata": {},
     "output_type": "execute_result"
    }
   ],
   "source": [
    "degree, avg_neigh_degree = zip(*nx.average_degree_connectivity(G).items())\n",
    "degree = list(degree)\n",
    "avg_neigh_degree = list(avg_neigh_degree)\n",
    "nx.degree_assortativity_coefficient(G, 'region')\n"
   ]
  },
  {
   "cell_type": "code",
   "execution_count": 8,
   "metadata": {},
   "outputs": [],
   "source": [
    "from matplotlib import pyplot as plt\n",
    "import seaborn as sns"
   ]
  },
  {
   "cell_type": "code",
   "execution_count": 9,
   "metadata": {},
   "outputs": [
    {
     "data": {
      "image/png": "[encoded data removed]",
      "text/plain": [
       "<Figure size 900x500 with 1 Axes>"
      ]
     },
     "metadata": {},
     "output_type": "display_data"
    }
   ],
   "source": [
    "plt.style.use(\"fivethirtyeight\")\n",
    "fig, ax = plt.subplots(1,1,figsize=(9,5))\n",
    "\n",
    "sns.regplot(x=degree,y=avg_neigh_degree,ax=ax)\n",
    "\n",
    "ax.set_xlabel(\"Node Degree\")\n",
    "ax.set_ylabel(\"Average neigbhor degree\")\n",
    "\n",
    "# Save figure\n",
    "plt.savefig(\"degree_assortativity.png\", \n",
    "            format=\"png\",\n",
    "            dpi=400, \n",
    "            bbox_inches=\"tight\",\n",
    "            transparent=True)\n",
    "\n",
    "plt.show()"
   ]
  },
  {
   "cell_type": "code",
   "execution_count": 10,
   "metadata": {},
   "outputs": [
    {
     "data": {
      "text/plain": [
       "6"
      ]
     },
     "execution_count": 10,
     "metadata": {},
     "output_type": "execute_result"
    }
   ],
   "source": [
    "nx.number_connected_components(G)"
   ]
  },
  {
   "cell_type": "code",
   "execution_count": 11,
   "metadata": {},
   "outputs": [
    {
     "name": "stdout",
     "output_type": "stream",
     "text": [
      "{'SBCO', 'SBAT', 'SBFI', 'SJUR', 'SNQD', 'SWNA', 'SNGQ', 'SSUW', 'SBBE', 'SNKK', 'SNBR', 'SNGA', 'SNVV', 'SWLV', 'SBKP', 'SDRS', 'SSCT', 'SBIC', 'SNFX', 'SWTP', 'SWKN', 'SNJB', 'SNAT', 'SNFE', 'SWHG', 'SDVG', 'SNYA', 'SWJV', 'SNPY', 'SWJU', 'SNDB', 'SBMA', 'SNNU', 'SBSC', 'SWCI', 'SNCC', 'SSNC', 'SSPK', 'SNXB', 'SNCI', 'SSCR', 'SWJH', 'SNQX', 'SBPM', '2NHT', 'SNML', 'SWJW', 'SWMW', 'SDWQ', 'SNZA', 'SDPA', 'SBBU', 'SBUG', 'SNQG', 'SBGR', 'SBMI', 'SBOI', 'SWBR', 'SBIH', 'SBIZ', 'SNCT', 'SBMO', 'SNRS', 'SBPG', 'SBSR', 'SNDT', 'SWBV', 'SWEK', 'SSCP', 'SNBA', 'SNBV', 'SBRJ', 'SWKO', 'SNAR', 'SDZG', 'SIFC', 'SBCX', 'SBGU', 'SNMJ', 'SNAX', 'SBMK', 'SBLP', 'SWBI', 'SBCA', 'SNMK', 'SSSK', 'SBUF', 'SBSJ', 'SDCG', 'SNMU', 'SSBN', 'SDNM', 'SWYN', 'SSBB', 'SBJR', 'SJLU', 'SIFV', 'SSVI', 'SBPF', 'SSPG', 'SNQY', 'SILC', 'SBTS', 'SDH2', 'SBAF', 'SSDO', 'SSAE', 'SBBI', 'SBAA', 'SWPF', 'SWSQ', 'SWNS', 'SWKC', 'SNFO', 'SNOS', 'SBPI', 'SWGN', 'SNGI', 'SNSM', 'SSKW', 'SWUY', 'SBTK', 'SSCK', 'SWBU', 'SNRU', 'SBSP', 'SBVH', 'SSVL', 'SBBV', 'SWPD', 'SNVS', 'SIXE', 'SNPJ', 'SDLK', 'SWEI', 'SWPC', 'SDZC', 'SWWU', 'SNGV', 'SWCA', 'SDBB', 'SWFE', 'SBAQ', 'SBDB', 'SNKE', 'SNGX', 'SBCR', 'SBME', 'SSER', 'SNGN', 'SBIP', 'SWNO', 'SNEE', 'SNNC', 'SNDH', 'SBHT', 'SWTU', 'SWOB', 'SWVC', 'SJLM', 'SDIM', 'SSBG', 'SJQP', 'SBPC', 'SNSG', 'SNUU', 'SBML', 'SBJF', 'SWNK', 'SWHT', 'SJHG', 'SDUN', 'SWYY', 'SBST', 'SWJN', 'SDSC', 'SNLO', 'SBAE', 'SJTC', 'SWUQ', 'SWHP', 'SNZR', 'SNJN', 'SDDM', 'SWPI', 'SNDQ', 'SWLB', 'SBMG', 'SSPB', 'SBGS', 'SDAG', 'SSHZ', 'SBMD', 'SBRF', 'SBMS', 'SBAS', 'SWNB', 'SBEK', 'SBPP', 'SBTE', 'SBFC', 'SSAB', 'SBTT', 'SBBP', 'SNWS', 'SBBW', 'SBFZ', 'SSTL', 'SWWA', 'SBAM', 'SNIG', 'SBYA', 'SWDE', 'SWXM', 'SNQW', 'SBQV', 'SNIC', 'SNOB', 'SBEG', 'SNTS', 'SBVC', 'SSNH', 'SNCL', 'SNUC', 'SBAC', 'SNAP', 'SBPV', 'SBRP', 'SNVC', 'SBSO', 'SNLA', 'SDMC', 'SBBR', 'SNVR', 'SNKB', 'SJKB', 'SBAG', 'SBMT', 'SDLU', 'SNRB', 'SDFR', 'SNJR', 'SNWR', 'SIBU', 'SJNP', 'SBNF', 'SBRD', 'SBSG', 'SNBI', 'SBAN', 'SWGI', 'SBJA', 'SNVB', 'SBPO', 'SDOW', 'SBMM', 'SSCL', 'SSUV', 'SBTD', 'SDTK', 'SNPC', 'SSND', 'SSEP', 'SJVO', 'SBJE', 'SBPS', 'SNDR', 'SBMQ', 'SDAA', 'SNIP', 'SBAV', 'SNMH', 'SDBK', 'SBTC', 'SNUI', 'SWII', 'SBCT', 'SBCV', 'SBYS', 'SNNT', 'SNSW', 'SNUB', 'SDVE', 'SWJQ', 'SBVG', 'SBLN', 'SSFB', 'SBTR', 'SNCB', 'SNBU', 'SDCO', 'SSOE', 'SBCB', 'SSNM', 'SSCC', 'SBCZ', 'SWAE', 'SBSI', 'SJRG', 'SWPQ', 'SDOV', 'SNCX', 'SWSI', 'SBVT', 'SWVR', 'SBMC', 'SJGU', 'SBCF', 'SWEE', 'SNTF', 'SBMH', 'SWFX', 'SSLS', 'SBUL', 'SWCP', 'SBFE', 'SBBZ', 'SBLE', 'SNPG', 'SIZX', 'SSUM', 'SSLT', 'SNBM', 'SBTB', 'SNRJ', 'SWDM', 'SBTV', 'SWBE', 'SJTS', 'SWTS', 'SBGL', 'SDOU', 'SDAN', 'SSOG', 'SSGY', 'SILJ', 'SNKI', 'SBMN', 'SBRG', 'SWNH', 'SBLJ', 'SWRF', 'SWBZ', 'SNBX', 'SNSH', 'SNOX', 'SSKM', 'SBLS', 'SBBT', 'SWPY', 'SNAV', 'SBPN', 'SBJU', 'SWGP', 'SWRP', 'SWMP', 'SNTI', 'SBBG', 'SWRD', 'SBCY', 'SIMK', 'SNDM', 'SWUI', 'SWJI', 'SWBG', 'SSRS', 'SWOW', 'SBCD', 'SWCD', 'SWXV', 'SBGO', 'SWKK', 'SJCW', 'SBFN', 'SBCN', 'SBDO', 'SWCQ', 'SSTE', 'SBPL', 'SBRB', 'SBNT', 'SNEB', 'SSGG', 'SBUA', 'SBBQ', 'SNCP', 'SWMK', 'SBPA', 'SNXW', 'SBCJ', 'SBJP', 'SNTP', 'SIQE', 'SDUB', 'SBPJ', 'SBCG', 'SBAU', 'SSIJ', 'SWPH', 'SSAC', 'SWPJ', 'SSSB', 'SBTF', 'SNYB', 'SWJP', 'SNXL', 'SBIL', 'SWQR', 'SBKG', 'SBSL', 'SBJD', '6ASO', 'SBZM', 'SNNG', 'SSTD', 'SNJD', 'SNPV', 'SBGW', 'SWEU', 'SNPD', 'SNJM', 'SNPX', 'SDTF', 'SWKQ', 'SWLF', 'SNBW', 'SBTL', 'SNDC', 'SBCC', 'SWFJ', 'SBFL', 'SBJV', 'SNYV', 'SSAP', 'SWNQ', 'SNQM', 'SNHS', 'SWUA', 'SBDN', 'SWWD', 'SNMD', 'SBSM', 'SBPB', 'SSJA', '1AON', 'SWLC', 'SIGP', 'SSCN', 'SNJO', 'SBJI', 'SBAR', 'SNPP', 'SSPI', 'SNUO', 'SNTO', 'SJQK', 'SWDB', 'SBSV', 'SIRI', 'SBCH', 'SBCM', 'SDJA', 'SWIQ', 'SNIU', 'SBTG', 'SBNM', 'SBUY', 'SBUR', 'SNDV', 'SWYK', 'SBMY', 'SWFN', 'SWCB', 'SBTU', 'SBIT', 'SWZM', 'SDAM', 'SBJC', 'SBCI', 'SSOK', 'SNMA', 'SNBS', 'SBBH', 'SBAX', 'SNMX', 'SISO', 'SJDB', 'SNJK', 'SBGP', 'SSZR', 'SBSN', 'SNMZ', 'SSSC', 'SBCP', 'SSZW', 'SIKC', 'SBGV', 'SSOU', 'SNUH', 'SNAB', 'SNAH', 'SBGM', 'SBPK', 'SBLO', 'SWBC'}\n",
      "{'SNBG'}\n",
      "{'SNGR'}\n",
      "{'SSBE'}\n",
      "{'SBJH'}\n",
      "{'SBER'}\n"
     ]
    }
   ],
   "source": [
    "S = nx.connected_components(G)\n",
    "\n",
    "for component in list(S):\n",
    "    print(component)\n"
   ]
  },
  {
   "cell_type": "code",
   "execution_count": 12,
   "metadata": {},
   "outputs": [
    {
     "name": "stdout",
     "output_type": "stream",
     "text": [
      "no conjunto  0 24.95049504950495 NORTE\n",
      "no conjunto  0 23.564356435643564 SUDESTE\n",
      "no conjunto  0 18.81188118811881 NORDESTE\n",
      "no conjunto  0 17.821782178217823 CENTRO-OESTE\n",
      "no conjunto  0 14.851485148514852 SUL\n",
      "no conjunto  1 0.0 NORTE\n",
      "no conjunto  1 100.0 SUDESTE\n",
      "no conjunto  1 0.0 NORDESTE\n",
      "no conjunto  1 0.0 CENTRO-OESTE\n",
      "no conjunto  1 0.0 SUL\n",
      "no conjunto  2 100.0 NORTE\n",
      "no conjunto  2 0.0 SUDESTE\n",
      "no conjunto  2 0.0 NORDESTE\n",
      "no conjunto  2 0.0 CENTRO-OESTE\n",
      "no conjunto  2 0.0 SUL\n",
      "no conjunto  3 0.0 NORTE\n",
      "no conjunto  3 0.0 SUDESTE\n",
      "no conjunto  3 0.0 NORDESTE\n",
      "no conjunto  3 100.0 CENTRO-OESTE\n",
      "no conjunto  3 0.0 SUL\n",
      "no conjunto  4 0.0 NORTE\n",
      "no conjunto  4 100.0 SUDESTE\n",
      "no conjunto  4 0.0 NORDESTE\n",
      "no conjunto  4 0.0 CENTRO-OESTE\n",
      "no conjunto  4 0.0 SUL\n",
      "no conjunto  5 100.0 NORTE\n",
      "no conjunto  5 0.0 SUDESTE\n",
      "no conjunto  5 0.0 NORDESTE\n",
      "no conjunto  5 0.0 CENTRO-OESTE\n",
      "no conjunto  5 0.0 SUL\n"
     ]
    }
   ],
   "source": [
    "\n",
    "S = nx.connected_components(G)\n",
    "for i, comp in enumerate(list(S)):\n",
    "    sudeste = norte = nordeste =  sul = centroOeste = 0\n",
    "    for airp in comp:\n",
    "        if nx.get_node_attributes(G, 'region')[airp] == 'NORTE':\n",
    "            norte += 1\n",
    "        if nx.get_node_attributes(G, 'region')[airp] == 'SUDESTE':\n",
    "            sudeste +=1\n",
    "        if nx.get_node_attributes(G, 'region')[airp] == 'SUL':\n",
    "            sul +=1\n",
    "        if nx.get_node_attributes(G, 'region')[airp] == 'CENTRO-OESTE':\n",
    "            centroOeste +=1\n",
    "        if nx.get_node_attributes(G, 'region')[airp] == 'NORDESTE':\n",
    "            nordeste +=1\n",
    "    \n",
    "    print(\"no conjunto \",i, 100*(norte/len(comp)),\"NORTE\")\n",
    "    print(\"no conjunto \",i, 100*(sudeste/len(comp)),\"SUDESTE\")\n",
    "    print(\"no conjunto \",i, 100 * nordeste/len(comp),\"NORDESTE\")\n",
    "    print(\"no conjunto \",i, 100 * centroOeste/len(comp),\"CENTRO-OESTE\")\n",
    "    print(\"no conjunto \",i, 100* sul/len(comp),\"SUL\")"
   ]
  },
  {
   "attachments": {},
   "cell_type": "markdown",
   "metadata": {},
   "source": [
    "# CIDADE 1 NORTE: SNYA, CIDADE 2 SUL: SBPF, #CIDADE 3 NORDESTE: SNPP,\n",
    "# CIDADE 4 CENTRO-OESTE: SJVO,  CIDADE 5 SUDESTE: SDBK"
   ]
  },
  {
   "cell_type": "code",
   "execution_count": 13,
   "metadata": {},
   "outputs": [
    {
     "name": "stdout",
     "output_type": "stream",
     "text": [
      "['SBBV', 'SBFL']\n",
      "1\n"
     ]
    }
   ],
   "source": [
    "# ROTA MAIS CURTA DO NORTE PARA O SUL\n",
    "# BOA VISTA PARA FLORIANOPOLIS - PREÇO MÉDIO R$1832,00 - GOL - TEMPO DE VOO 8H20MIN - DIA 1 - 18/06 - \n",
    "# SAIDA 2:55 - CHEGADA 12:15 \n",
    "print(nx.shortest_path(G,\"SBBV\",\"SBFL\"))\n",
    "print(nx.shortest_path_length(G,\"SBBV\",\"SBFL\"))"
   ]
  },
  {
   "cell_type": "code",
   "execution_count": 14,
   "metadata": {},
   "outputs": [
    {
     "name": "stdout",
     "output_type": "stream",
     "text": [
      "['SBFL', 'SBRF']\n",
      "1\n"
     ]
    }
   ],
   "source": [
    "# ROTA MAIS CURTA DO SUL PARA O NORDESTE\n",
    "# FLORIANOPOLIS PARA RECIFE - PREÇO MÉDIO R$637,00 - LATAM - TEMPO DE VOO 11H20MIN - DIA 2 - 19/06\n",
    "# SAIDA 11:15 - CHEGADA 22:35\n",
    "print(nx.shortest_path(G,\"SBFL\",\"SBRF\"))\n",
    "print(nx.shortest_path_length(G,\"SBFL\",\"SBRF\"))\n"
   ]
  },
  {
   "cell_type": "code",
   "execution_count": 15,
   "metadata": {},
   "outputs": [
    {
     "name": "stdout",
     "output_type": "stream",
     "text": [
      "['SBRF', 'SBCY']\n",
      "1\n"
     ]
    }
   ],
   "source": [
    "# ROTA MAIS CURTA DO NORDESTE PARA O CENTRO-OESTE\n",
    "# RECIFE PARA VARZEA GRANDE - PREÇO MÉDIO - R$1538,00 - LATAM - TEMPO DE VOO 6H20MIN - 20/06\n",
    "# SAIDA 12:12 - CHEGADA 17:30\n",
    "print(nx.shortest_path(G,\"SBRF\",\"SBCY\"))\n",
    "print(nx.shortest_path_length(G,\"SBRF\",\"SBCY\"))"
   ]
  },
  {
   "cell_type": "code",
   "execution_count": 16,
   "metadata": {},
   "outputs": [
    {
     "name": "stdout",
     "output_type": "stream",
     "text": [
      "['SBCY', 'SBSP']\n",
      "1\n"
     ]
    }
   ],
   "source": [
    "# ROTA MAIS CURTA DO CENTRO-OESTE PARA O SUDESTE\n",
    "#VARZEA GRANDE PARA SAO PAULO - PREÇO MÉDIO R$585,00 - AZUL - TEMPO DE VOO 2H10MIN\n",
    "# SAIDA 20:20 - CHEGADA 23:30\n",
    "print(nx.shortest_path(G,\"SBCY\",\"SBSP\"))\n",
    "print(nx.shortest_path_length(G,\"SBCY\",\"SBSP\"))"
   ]
  },
  {
   "cell_type": "code",
   "execution_count": 17,
   "metadata": {},
   "outputs": [
    {
     "name": "stdout",
     "output_type": "stream",
     "text": [
      "0.6298820670024339\n",
      "0.6129174483757455\n",
      "0.4901000932205856\n",
      "0.5907956617622269\n",
      "0.6055274251271584\n",
      "0.5665069530501539\n",
      "{'SBCF': 0.29049897470950103, 'SBGL': 0.28487161693268565, 'SBGR': 0.2114342743085258, 'SSUM': 0.7142857142857143, 'SNBG': 0, 'SSBG': 0, 'SBCV': 0.725, 'SBLP': 0.6666666666666666, 'SBSV': 0.270698766881973, 'SNGI': 0.6909090909090909, 'SNTF': 0.7948717948717948, 'SBAR': 0.6327868852459017, 'SBMO': 0.5358558558558558, 'SBPL': 0.6579591836734694, 'SNBR': 0.6007130124777184, 'SNVR': 0, 'SBKP': 0.23200992555831265, 'SBBV': 0.4, 'SBFL': 0.44533547179898425, 'SBPA': 0.28308961379827524, '1AON': 0.9555555555555556, 'SBAA': 0.7032967032967034, 'SBAS': 0.9934640522875817, 'SBAU': 0.6998299319727891, 'SBBE': 0.25900758533501894, 'SBBH': 0.20738794681952075, 'SBBR': 0.26128662287561255, 'SBCG': 0.44670846394984326, 'SBCH': 0.4581920903954802, 'SBCJ': 0.5372340425531915, 'SBCT': 0.2880368513751524, 'SBCY': 0.24186046511627907, 'SBDN': 0.5647721454173067, 'SBEG': 0.22268700787401574, 'SBFC': 0.7139784946236559, 'SBFZ': 0.39212121212121215, 'SBGO': 0.23375603187072158, 'SBIL': 0.6415094339622641, 'SBIZ': 0.606845513413506, 'SBJP': 0.5967213114754099, 'SBJV': 0.6947278911564626, 'SBLO': 0.42417582417582417, 'SBMA': 0.5165912518853696, 'SBMC': 0.7878787878787878, 'SBMQ': 0.4398976982097187, 'SBNF': 0.6357142857142857, 'SBNT': 0.5017851346965271, 'SBPJ': 0.4964788732394366, 'SBPN': 1.0, 'SBPS': 0.4728317659352142, 'SBPV': 0.3881856540084388, 'SBRF': 0.3508134302526826, 'SBRJ': 0.2934697088906373, 'SBRP': 0.3229914645711963, 'SBSJ': 0.4776797647687784, 'SBSL': 0.5932539682539683, 'SBSM': 0.46774193548387094, 'SBSP': 0.2106090079305701, 'SBSR': 0.43263258480649786, 'SBTC': 0.8487394957983193, 'SBTE': 0.6267392619479734, 'SBTU': 0.4838709677419355, 'SBUG': 0.6238095238095238, 'SBUL': 0.4553191489361702, 'SBUR': 0.5224748810153358, 'SBVG': 0.4857142857142857, 'SBVH': 0.5591397849462365, 'SBVT': 0.39304123711340205, 'SDAG': 0.8, 'SNDC': 0.5138339920948617, 'SNDM': 0.9714285714285714, 'SNTO': 0.48484848484848486, 'SSCK': 0.8363636363636363, 'SSEP': 1.0, 'SSER': 0.6405228758169934, 'SSHZ': 1.0, 'SSLT': 0.7, 'SSPB': 0.8222222222222222, 'SSUW': 0.8, 'SSZR': 0.6666666666666666, 'SWFX': 0.3384615384615385, 'SWGI': 0.4021505376344086, 'SWJI': 0.6733870967741935, 'SWKK': 1.0, 'SWKN': 0.8472906403940886, 'SWNQ': 0.9, 'SWPQ': 1.0, 'SBBI': 0.6545454545454545, 'SBCX': 0.65, 'SBFI': 0.5262128325508607, 'SBSN': 0.3072829131652661, 'SDAN': 1.0, 'SDCO': 0.5336060783167739, 'SDUB': 1.0, 'SNFE': 0.6666666666666666, 'SWGN': 0.5551684088269454, 'SBCA': 0.671247357293869, 'SBCM': 0.6451612903225806, 'SBCR': 0.7492877492877493, 'SBME': 0.5630252100840336, 'SBML': 0.7890243902439025, 'SBPK': 0.6477832512315271, 'SBAQ': 0.8302521008403362, 'SDVG': 0.9809523809523809, 'SBBT': 0.8917748917748918, 'SNRU': 1.0, 'SBMN': 0.5206349206349207, 'SBBU': 0.6923076923076923, 'SBMG': 0.6624737945492662, 'SSTD': 1.0, 'SBTD': 0.8571428571428571, 'SBRG': 0.9333333333333333, 'SNOX': 0.6274509803921569, 'SNTI': 0.6535947712418301, 'SBHT': 0.49861239592969475, 'SBIH': 0.2653276955602537, 'SBMD': 0.5367965367965368, 'SBFN': 0.9437229437229437, 'SBIP': 0.5015082956259427, 'SBJF': 0.6754032258064516, 'SBKG': 0.7195767195767195, 'SBMK': 0.4909090909090909, 'SBPB': 0.7865612648221344, 'SBQV': 0.6128205128205129, 'SBTB': 0.6526315789473685, 'SNGV': 0.7941176470588235, 'SNQY': 0.6374269005847953, 'SWPJ': 1.0, 'SBJU': 0.6202020202020202, 'SBMS': 0.7017543859649122, '6ASO': 0.5714285714285714, 'SBAT': 0.5525641025641026, 'SBEK': 0.4666666666666667, 'SBOI': 0.7333333333333333, 'SNDB': 1.0, 'SNMD': 0.5238095238095238, 'SNMZ': 0.9111111111111111, 'SNNG': 0.46153846153846156, 'SNSH': 0.40711462450592883, 'SNVS': 0.7272727272727273, 'SWJH': 0.509090909090909, 'SWJN': 0.3161764705882353, 'SWJU': 0.6428571428571429, 'SWMP': 0.8095238095238095, 'SWPI': 0.5440860215053763, 'SWRP': 0.5555555555555556, 'SWSI': 0.4143049932523617, 'SWUQ': 0.4666666666666667, 'SBTS': 0.6071428571428571, 'SWCP': 1.0, 'SWTS': 0.42857142857142855, 'SWTU': 0.4722222222222222, 'SBJC': 0.7111111111111111, 'SNLA': 1.0, 'SWKC': 0.5, 'SNSM': 0, 'SWLV': 1.0, 'SNFX': 0.7636363636363637, 'SWMW': 0.6363636363636364, 'SWVR': 1.0, 'SBCP': 0.5508021390374331, 'SBNM': 0.6376811594202898, 'SBPP': 1.0, 'SNMU': 0.7210526315789474, 'SSDO': 0.8138528138528138, 'SWLC': 0.8033333333333333, 'SBBQ': 0.8095238095238095, 'SBMT': 0.6691176470588235, 'SDFR': 0.9, 'SBCZ': 0.5797101449275363, 'SBRB': 0.5725689404934688, 'SBTF': 0.34984984984984985, 'SBTK': 0.8333333333333334, 'SBTT': 0.4308300395256917, 'SBUA': 0.3787878787878788, 'SWBC': 0.5833333333333334, 'SWBR': 0.6, 'SWCA': 0.5604395604395604, 'SWEI': 0.5714285714285714, 'SWHT': 0.5256410256410257, 'SWII': 1.0, 'SWJP': 1.0, 'SWKO': 0.4052631578947368, 'SWLB': 0.6282051282051282, 'SWNA': 0.8, 'SWOB': 0.6212121212121212, 'SWTP': 0.9, 'SWNO': 0.42857142857142855, 'SBIC': 0.5, 'SWMK': 1.0, 'SBMY': 0.4230769230769231, 'SWSQ': 1.0, 'SWUY': 0.6909090909090909, 'SBYA': 1.0, 'SWYN': 0.9333333333333333, 'SBLJ': 0.6666666666666666, 'SBPF': 0.6190476190476191, '2NHT': 1.0, 'SBCB': 0.871264367816092, 'SNVB': 0.8666666666666667, 'SBAN': 1.0, 'SBSC': 0.8095238095238095, 'SDZC': 0, 'SSVI': 0.9818181818181818, 'SNIG': 0.5, 'SNOB': 0, 'SNQD': 0.5, 'SNTS': 0.6363636363636364, 'SNAB': 0.8333333333333334, 'SNQG': 0.3333333333333333, 'SNKK': 0.4666666666666667, 'SNRS': 0, 'SNQX': 0, 'SDUN': 0.6666666666666666, 'SNPD': 0.4842105263157895, 'SBCC': 1.0, 'SBPC': 0.7575757575757576, 'SBAV': 1.0, 'SDOU': 0.4666666666666667, 'SBTL': 1.0, 'SBGM': 1.0, 'SWCQ': 1.0, 'SWFJ': 1.0, 'SBMM': 1.0, 'SSPK': 1.0, 'SBMH': 0.9261538461538461, 'SBAF': 0.8, 'SNGR': 0, 'SNMA': 0.7238095238095238, 'SNAT': 0.8571428571428571, 'SNCB': 1.0, 'SWDM': 0.3333333333333333, 'SNRB': 0.6666666666666666, 'SNPG': 1.0, 'SNSW': 1.0, 'SWXM': 1.0, 'SBBW': 0.6413043478260869, 'SBGV': 0.6473118279569893, 'SDBK': 0.782051282051282, 'SSCR': 1.0, 'SWUI': 1.0, 'SWPF': 0, 'SDCG': 0.9333333333333333, 'SWNK': 0.7555555555555555, 'SDSC': 0.7585034013605442, 'SNDR': 1.0, 'SSLS': 1.0, 'SBPM': 0.8369230769230769, 'SWRD': 0.6089743589743589, 'SNNC': 0.3333333333333333, 'SSPG': 1.0, 'SNUI': 0.7333333333333333, 'SBAM': 0.6666666666666666, 'SWNS': 0.7, 'SBAX': 0.6068548387096774, 'SNDV': 0.8571428571428571, 'SBLS': 1.0, 'SBBZ': 0.7714285714285715, 'SBST': 0.6, 'SNBA': 0.9615384615384616, 'SWFE': 1.0, 'SWYK': 1.0, 'SWCI': 1.0, 'SNYA': 0.9333333333333333, 'SNEB': 0.7, 'SDOW': 0.8205128205128205, 'SNPV': 0, 'SWBI': 0.8333333333333334, 'SWEE': 0.6666666666666666, 'SWJV': 1.0, 'SIGP': 1.0, 'SNAX': 1.0, 'SIBU': 1.0, 'SNUC': 1.0, 'SNJO': 1.0, 'SNKB': 1.0, 'SSCC': 0.9047619047619048, 'SNPJ': 0.8, 'SIFV': 0.9333333333333333, 'SSKM': 0.6666666666666666, 'SBBG': 0.6071428571428571, 'SNBI': 1.0, 'SBGS': 1.0, 'SNMX': 1.0, 'SNBV': 1.0, 'SNBW': 1.0, 'SNCC': 1.0, 'SBLE': 0.9044117647058824, 'SDAA': 0.8, 'SSBB': 1.0, 'SSJA': 0.7142857142857143, 'SNDT': 0.7, 'SBCD': 0.5367647058823529, 'SBUF': 0.975, 'SNPX': 1.0, 'SILJ': 0, 'SNML': 0, 'SWEU': 0.7333333333333333, 'SNTP': 1.0, 'SNXW': 0, 'SJDB': 1.0, 'SDAM': 0.865546218487395, 'SBJR': 0.532608695652174, 'SIMK': 0.8954248366013072, 'SNJK': 1.0, 'SDBB': 0, 'SBCI': 0.9285714285714286, 'SNZA': 0.5, 'SNJB': 1.0, 'SNJD': 0.5357142857142857, 'SNVV': 1.0, 'SDLK': 0, 'SJNP': 0.8214285714285714, 'SWBZ': 0.8571428571428571, 'SIKC': 1.0, 'SIZX': 0.6190476190476191, 'SWEK': 0.42857142857142855, 'SWVC': 0.7619047619047619, 'SWWD': 1.0, 'SISO': 0.6666666666666666, 'SDVE': 0, 'SDMC': 1.0, 'SNKI': 1.0, 'SDRS': 0.8571428571428571, 'SDPA': 1.0, 'SDTK': 0.7818181818181819, 'SNYB': 1.0, 'SNMK': 0.6190476190476191, 'SNUB': 0, 'SILC': 0.5777777777777777, 'SSNM': 1.0, 'SJKB': 0.9, 'SNAH': 0, 'SNBU': 0, 'SNQM': 0, 'SJTC': 0.8484848484848485, 'SWCD': 1.0, 'SWFN': 0.29411764705882354, 'SWOW': 1.0, 'SWPD': 1.0, 'SJTS': 0, 'SSNH': 1.0, 'SJRG': 1.0, 'SBLN': 0.6666666666666666, 'SJUR': 0.9333333333333333, 'SDDM': 1.0, 'SDJA': 0, 'SWJW': 1.0, 'SBCO': 1.0, 'SDTF': 1.0, 'SWBV': 0.8333333333333334, 'SJQK': 0.3484848484848485, 'SSBN': 0, 'SBTR': 1.0, 'SNYV': 0, 'SNUO': 0, 'SWXV': 0.7, 'SJHG': 0.5619047619047619, 'SNBS': 0.6, 'SNKE': 0.8055555555555556, 'SBAG': 0.8666666666666667, 'SNJR': 1.0, 'SBPI': 0, 'SBCN': 0.7907692307692308, 'SNGQ': 1.0, 'SNWR': 1.0, 'SSBE': 0, 'SNXL': 1.0, 'SWHP': 0.3333333333333333, 'SNNT': 0, 'SJLU': 1.0, 'SWQR': 0.8333333333333334, 'SBGU': 1.0, 'SIXE': 0, 'SSCN': 1.0, 'SSIJ': 1.0, 'SNCI': 0, 'SNPC': 0, 'SDLU': 0, 'SBDB': 0.9696969696969697, 'SBGP': 1.0, 'SNPY': 0.7, 'SWAE': 1.0, 'SWBU': 1.0, 'SJCW': 0, 'SWPC': 0, 'SSSC': 0, 'SBAE': 0.7092198581560284, 'SBJI': 0.5705645161290323, 'SNAP': 1.0, 'SBTV': 1.0, 'SBUY': 0.7090909090909091, 'SBZM': 0.9090909090909091, 'SJLM': 0, 'SSFB': 0.6888888888888889, 'SBYS': 1.0, 'SSKW': 0.7362637362637363, 'SWGP': 1.0, 'SWDE': 0, 'SWHG': 0.6666666666666666, 'SWIQ': 0.6071428571428571, 'SBJD': 0.43358395989974935, 'SBDO': 0.935672514619883, 'SWDB': 0, 'SWYY': 0, 'SNMH': 1.0, 'SJGU': 0, 'SSOE': 0.6666666666666666, 'SBTG': 0.945054945054945, 'SSTL': 1.0, 'SWCB': 0, 'SDOV': 1.0, 'SJVO': 0, 'SNPP': 0.6666666666666666, 'SWWA': 0.6666666666666666, 'SBSG': 0.7797101449275362, 'SIRI': 1.0, 'SSCL': 0, 'SSRS': 0.8, 'SWZM': 0, 'SNBX': 0, 'SWWU': 0, 'SNMJ': 0, 'SNBM': 1.0, 'SIQE': 0, 'SNQW': 0, 'SSNC': 0, 'SSND': 1.0, 'SWNH': 1.0, 'SWUA': 1.0, 'SJQP': 0, 'SSAC': 0, 'SBIT': 1.0, 'SNDH': 1.0, 'SNIC': 1.0, 'SBFE': 0.9722222222222222, 'SBRD': 0.8455882352941176, 'SBJA': 0.9044117647058824, 'SNAV': 0, 'SNUU': 0, 'SNIU': 0, 'SBSO': 0.7428571428571429, 'SSZW': 0, 'SWNB': 1.0, 'SNIP': 1.0, 'SBJE': 0.8051948051948052, 'SNAR': 1.0, 'SNCT': 0.5357142857142857, 'SNJM': 0.8, 'SNVC': 0.7, 'SNNU': 0.6666666666666666, 'SNOS': 0.6666666666666666, 'SNZR': 0.9, 'SNFO': 0, 'SNGX': 1.0, 'SNUH': 1.0, 'SWLF': 0, 'SNXB': 0, 'SSAB': 0, 'SNHS': 1.0, 'SBPG': 0.7, 'SSOU': 0.6, 'SSCP': 0.8333333333333334, 'SSCT': 0.6666666666666666, 'SSGY': 0, 'SSOG': 0.5333333333333333, 'SSPI': 1.0, 'SSUV': 1.0, 'SSVL': 0.6666666666666666, 'SSSB': 1.0, 'SBPO': 0.42857142857142855, 'SBSI': 0.6078431372549019, 'SBVC': 0.85, 'SNJN': 1.0, 'SBAC': 0.6666666666666666, 'SDZG': 0, 'SNWS': 0, 'SWBE': 1.0, 'SDWQ': 1.0, 'SNRJ': 1.0, 'SNSG': 0, 'SSSK': 0, 'SWRF': 0, 'SDIM': 0, 'SNGA': 0, 'SSTE': 0, 'SBMI': 1.0, 'SDNM': 0.8333333333333334, 'SWBG': 1.0, 'SWPY': 1.0, 'SNCL': 1.0, 'SNEE': 1.0, 'SBBP': 0, 'SWPH': 1.0, 'SDH2': 0.6, 'SSAP': 0.8333333333333334, 'SNCP': 0.6, 'SSGG': 1.0, 'SNGN': 0, 'SBGW': 0, 'SIFC': 1.0, 'SWKQ': 1.0, 'SBJH': 0, 'SNDQ': 0, 'SSAE': 0, 'SWJQ': 0, 'SBER': 0, 'SNLO': 0, 'SNCX': 0, 'SSOK': 0}\n",
      "{'SBBV': 0.31746031746031744, '1AON': 1.0, 'SBAA': 0.8222222222222222, 'SBBE': 0.16878402903811252, 'SBCJ': 0.5842105263157895, 'SBEG': 0.14382632293080055, 'SBMA': 0.44333333333333336, 'SBMQ': 0.30634920634920637, 'SBPJ': 0.5263157894736842, 'SBPN': 1.0, 'SBPV': 0.2388663967611336, 'SBTU': 0.49523809523809526, 'SBVH': 0.5357142857142857, 'SNDC': 0.6263736263736264, 'SWGI': 0.6593406593406593, 'SWJI': 0.6388888888888888, 'SWKK': 1.0, 'SBSN': 0.2938443670150987, 'SWGN': 0.6405228758169934, 'SBMN': 0.45789473684210524, 'SNOX': 0.6617647058823529, 'SNTI': 0.6911764705882353, 'SBHT': 0.46296296296296297, 'SBIH': 0.4014778325123153, 'SBMD': 0.5816993464052288, 'SBTB': 0.7132352941176471, 'SWPJ': 0, 'SBEK': 0.4666666666666667, 'SBOI': 0.8, 'SNDB': 1.0, 'SNMD': 0.5238095238095238, 'SNMZ': 0.9111111111111111, 'SNNG': 0.8, 'SNSH': 0.49707602339181284, 'SNVS': 0.7272727272727273, 'SWPI': 0.5095238095238095, 'SWUQ': 0.7, 'SBTS': 0.6071428571428571, 'SBJC': 0.7111111111111111, 'SNLA': 1.0, 'SNSM': 0, 'SNFX': 0.8333333333333334, 'SWMW': 0.6363636363636364, 'SBCZ': 0.4857142857142857, 'SBRB': 0.3952569169960474, 'SBTF': 0.36243386243386244, 'SBTK': 0.8333333333333334, 'SBTT': 0.48366013071895425, 'SBUA': 0.4, 'SWBC': 0.5833333333333334, 'SWBR': 0.6, 'SWCA': 0.5769230769230769, 'SWEI': 0.6538461538461539, 'SWHT': 0.5256410256410257, 'SWII': 1.0, 'SWJP': 1.0, 'SWKO': 0.42105263157894735, 'SWLB': 0.6282051282051282, 'SWNA': 0.8, 'SWOB': 0.6212121212121212, 'SWTP': 0.9, 'SWNO': 0.42857142857142855, 'SBIC': 0.5, 'SWMK': 1.0, 'SBMY': 0.4909090909090909, 'SWSQ': 1.0, 'SWUY': 0.7857142857142857, 'SBYA': 1.0, 'SWYN': 0.9333333333333333, 'SBCC': 0, 'SBGM': 1.0, 'SWCQ': 1.0, 'SWFJ': 1.0, 'SNGR': 0, 'SNMA': 0.7692307692307693, 'SNCB': 1.0, 'SNRB': 0.6666666666666666, 'SNPG': 1.0, 'SNSW': 1.0, 'SWUI': 1.0, 'SWPF': 0, 'SDCG': 0.9333333333333333, 'SWNK': 0.7555555555555555, 'SBPM': 0.8095238095238095, 'SNNC': 0, 'SBAM': 1.0, 'SNYA': 0.9333333333333333, 'SNEB': 0.7, 'SDOW': 0.8666666666666667, 'SNPV': 0, 'SWBI': 0.8333333333333334, 'SWEE': 0.6666666666666666, 'SWJV': 1.0, 'SNBV': 1.0, 'SNBW': 1.0, 'SNCC': 1.0, 'SILJ': 0, 'SWEU': 0.7333333333333333, 'SNTP': 1.0, 'SNXW': 0, 'SJNP': 1.0, 'SWWD': 1.0, 'SISO': 0, 'SWFN': 0.29411764705882354, 'SWOW': 1.0, 'SWPD': 1.0, 'SJTS': 0, 'SWBV': 0.8333333333333334, 'SJQK': 0.4, 'SNYV': 0, 'SNUO': 0, 'SNKE': 0.9523809523809523, 'SNGQ': 1.0, 'SNWR': 1.0, 'SJLU': 1.0, 'SWQR': 0.8333333333333334, 'SNCI': 0, 'SWAE': 1.0, 'SJCW': 0, 'SWPC': 0, 'SBJI': 0.5833333333333334, 'SBUY': 0.6785714285714286, 'SJLM': 0, 'SSKW': 0.6666666666666666, 'SJGU': 0, 'SNQW': 0, 'SDWQ': 1.0, 'SBER': 0}\n",
      "{'SBCV': 0.6666666666666666, 'SBLP': 0.5, 'SBSV': 0.16142557651991615, 'SNGI': 0.5, 'SNTF': 0.5, 'SBAR': 0.5366666666666666, 'SBMO': 0.4708994708994709, 'SBPL': 0.5333333333333333, 'SNBR': 0.375, 'SNVR': 0, 'SBFZ': 0.326984126984127, 'SBIL': 0.5473684210526316, 'SBIZ': 0.7142857142857143, 'SBJP': 0.45566502463054187, 'SBNT': 0.50997150997151, 'SBPS': 0.4358974358974359, 'SBRF': 0.2764227642276423, 'SBSL': 0.5454545454545454, 'SBTC': 0.7575757575757576, 'SBTE': 0.5730994152046783, 'SNDM': 1.0, 'SNRU': 1.0, 'SBFN': 0.9272727272727272, 'SBKG': 0.6549707602339181, 'SBPB': 0.7252747252747253, 'SBQV': 0.4338235294117647, 'SNQY': 0.580952380952381, 'SBJU': 0.4586894586894587, 'SBMS': 0.6363636363636364, 'SNMU': 0.7, '2NHT': 1.0, 'SNVB': 0.7142857142857143, 'SNIG': 0.5, 'SNOB': 0, 'SNQD': 0.5818181818181818, 'SNTS': 0.6363636363636364, 'SNAB': 0.8333333333333334, 'SNQG': 0.3333333333333333, 'SNKK': 0.5555555555555556, 'SNRS': 0, 'SNQX': 0, 'SNAT': 0.8, 'SNDR': 1.0, 'SSLS': 0, 'SIBU': 1.0, 'SNUC': 1.0, 'SNJO': 1.0, 'SNKB': 1.0, 'SNBI': 0, 'SBLE': 0.8571428571428571, 'SBUF': 1.0, 'SNML': 0, 'SNJK': 0, 'SBCI': 0, 'SNJB': 1.0, 'SNJD': 0.5, 'SNVV': 1.0, 'SDLK': 0, 'SNAH': 0, 'SNBU': 0, 'SNQM': 0, 'SJUR': 0, 'SNBS': 0, 'SNPC': 0, 'SBTV': 0, 'SNPP': 0, 'SBSG': 0.738562091503268, 'SIRI': 1.0, 'SSRS': 0.8, 'SNBX': 0, 'SNMJ': 0, 'SNDH': 1.0, 'SNIC': 1.0, 'SBFE': 1.0, 'SNAV': 0, 'SNUU': 0, 'SNIU': 0, 'SWNB': 1.0, 'SNIP': 1.0, 'SBJE': 0.7272727272727273, 'SNHS': 1.0, 'SBVC': 0.7777777777777778, 'SBAC': 0.7, 'SDZG': 0, 'SNWS': 0, 'SWBE': 1.0, 'SNRJ': 0, 'SNSG': 0, 'SSSK': 0, 'SWRF': 0, 'SNCL': 1.0, 'SNGN': 0, 'SIFC': 1.0, 'SWKQ': 1.0, 'SNDQ': 0}\n",
      "{'SSUM': 0.6666666666666666, 'SSBG': 0, 'SBFL': 0.4206896551724138, 'SBPA': 0.20444033302497688, 'SBCH': 0.3546218487394958, 'SBCT': 0.2074468085106383, 'SBJV': 0.6916666666666667, 'SBLO': 0.4057971014492754, 'SBNF': 0.6916666666666667, 'SBSM': 0.42333333333333334, 'SBUG': 0.65, 'SSCK': 0.8363636363636363, 'SSEP': 1.0, 'SSER': 0.6405228758169934, 'SSHZ': 1.0, 'SSLT': 0.7, 'SSPB': 1.0, 'SSUW': 0.9166666666666666, 'SSZR': 0.6666666666666666, 'SBBI': 0.7333333333333333, 'SBCX': 0.6368421052631579, 'SBFI': 0.49047619047619045, 'SBCA': 0.6029411764705882, 'SBCM': 0.6538461538461539, 'SBPK': 0.6198830409356725, 'SBMG': 0.8076923076923077, 'SSTD': 1.0, 'SBTD': 0.8571428571428571, 'SBRG': 0.8571428571428571, 'SBNM': 0.6176470588235294, 'SBLJ': 0.6813186813186813, 'SBPF': 0.638095238095238, 'SSVI': 0.9523809523809523, 'SBTL': 0, 'SSPK': 1.0, 'SBMH': 1.0, 'SSCR': 0, 'SSPG': 1.0, 'SSCC': 0.8, 'SSKM': 1.0, 'SBBG': 0.6190476190476191, 'SBGS': 1.0, 'SSJA': 0.7142857142857143, 'SBCD': 0.5367647058823529, 'SSNH': 1.0, 'SJRG': 1.0, 'SBCO': 0, 'SSBN': 0, 'SBTR': 0, 'SBGU': 1.0, 'SIXE': 0, 'SSCN': 1.0, 'SSIJ': 1.0, 'SSSC': 0, 'SSFB': 0.7857142857142857, 'SSOE': 0.6666666666666666, 'SBJA': 1.0, 'SSZW': 0, 'SSAB': 0, 'SBPG': 0, 'SSCP': 0.8333333333333334, 'SSCT': 0.6666666666666666, 'SSOG': 0.5333333333333333, 'SSPI': 0, 'SSUV': 1.0, 'SSVL': 0.6666666666666666, 'SSSB': 1.0, 'SBPO': 0.42857142857142855, 'SSTE': 0, 'SNEE': 1.0, 'SSAP': 0.8333333333333334, 'SNCP': 0.6, 'SSGG': 0, 'SSAE': 0, 'SSOK': 0}\n",
      "{'SBCF': 0.4061054579093432, 'SBGL': 0.3893877551020408, 'SBGR': 0.30546448087431693, 'SNBG': 0, 'SBKP': 0.3778280542986425, 'SBAS': 1.0, 'SBAU': 0.8300395256916996, 'SBBH': 0.17901234567901234, 'SBDN': 0.72, 'SBFC': 0.7205882352941176, 'SBRJ': 0.3033313851548802, 'SBRP': 0.4843205574912892, 'SBSJ': 0.5645645645645646, 'SBSP': 0.24934152765583845, 'SBSR': 0.5135135135135135, 'SBUL': 0.5852272727272727, 'SBUR': 0.5412698412698412, 'SBVG': 0.5394088669950738, 'SBVT': 0.46923076923076923, 'SDAG': 0.8, 'SNTO': 0.5111111111111111, 'SDAN': 1.0, 'SDCO': 0.6350806451612904, 'SDUB': 1.0, 'SNFE': 0.7142857142857143, 'SBME': 0.5862068965517241, 'SBML': 0.79, 'SBAQ': 0.8701298701298701, 'SDVG': 0.9555555555555556, 'SBBT': 0.8363636363636363, 'SBBU': 0.7842105263157895, 'SBIP': 0.5132575757575758, 'SBJF': 0.7282608695652174, 'SBMK': 0.7075098814229249, 'SNGV': 0.8939393939393939, 'SBCP': 0.5753846153846154, 'SBBQ': 0.8666666666666667, 'SBMT': 0.675, 'SDFR': 0.9, 'SBCB': 0.8954248366013072, 'SBSC': 0.8333333333333334, 'SDZC': 0, 'SDUN': 0.7333333333333333, 'SNPD': 0.45588235294117646, 'SBPC': 0.7575757575757576, 'SBAV': 1.0, 'SDOU': 0.6, 'SBMM': 0, 'SBAF': 0.8, 'SBGV': 0.70995670995671, 'SDBK': 1.0, 'SDSC': 0.8, 'SNUI': 0.7333333333333333, 'SBAX': 0.6017316017316018, 'SNDV': 1.0, 'SBLS': 1.0, 'SBBZ': 0.7714285714285715, 'SBST': 0.6388888888888888, 'SNBA': 1.0, 'SIGP': 1.0, 'SNAX': 1.0, 'SNPJ': 0.8, 'SIFV': 1.0, 'SNMX': 1.0, 'SDAA': 0.8, 'SNDT': 0.7, 'SNPX': 1.0, 'SDAM': 0.8916666666666667, 'SBJR': 0.5894736842105263, 'SIMK': 0.9333333333333333, 'SDBB': 0, 'SNZA': 0.5, 'SDVE': 0, 'SDMC': 1.0, 'SNKI': 1.0, 'SDRS': 0.8571428571428571, 'SDPA': 1.0, 'SDTK': 0.7818181818181819, 'SNYB': 1.0, 'SNMK': 0.8, 'SNUB': 0, 'SJTC': 0.8833333333333333, 'SBLN': 0.6666666666666666, 'SDDM': 0, 'SDJA': 0, 'SDTF': 0, 'SBAG': 0.8666666666666667, 'SNJR': 1.0, 'SBPI': 0, 'SNNT': 0, 'SDLU': 0, 'SBGP': 1.0, 'SNPY': 0.8333333333333334, 'SBAE': 0.8666666666666667, 'SNAP': 0, 'SBZM': 0.9333333333333333, 'SBYS': 1.0, 'SBJD': 0.44385026737967914, 'SNBM': 0, 'SNAR': 1.0, 'SNCT': 0.5357142857142857, 'SNJM': 0.8, 'SNVC': 0.7, 'SNNU': 0.6666666666666666, 'SNOS': 0.6666666666666666, 'SNZR': 0.9, 'SNFO': 0, 'SNGX': 1.0, 'SNUH': 1.0, 'SWLF': 0, 'SNXB': 0, 'SSGY': 0, 'SNJN': 1.0, 'SDIM': 0, 'SNGA': 0, 'SBMI': 1.0, 'SBBP': 0, 'SBGW': 0, 'SBJH': 0, 'SNLO': 0, 'SNCX': 0}\n",
      "{'SBBR': 0.19692307692307692, 'SBCG': 0.2578947368421053, 'SBCY': 0.10884353741496598, 'SBGO': 0.08826945412311266, 'SBMC': 0.8, 'SWFX': 0.3416666666666667, 'SWKN': 1.0, 'SWNQ': 0.8333333333333334, 'SWPQ': 1.0, 'SBCR': 0.5238095238095238, '6ASO': 0.5, 'SBAT': 0.45454545454545453, 'SWJH': 0.4642857142857143, 'SWJN': 0.38461538461538464, 'SWJU': 0.8, 'SWMP': 0.6666666666666666, 'SWRP': 0.6785714285714286, 'SWSI': 0.26143790849673204, 'SWCP': 1.0, 'SWTS': 0.42857142857142855, 'SWTU': 0.5, 'SWKC': 0, 'SWLV': 0, 'SWVR': 1.0, 'SBPP': 1.0, 'SSDO': 0.6, 'SWLC': 0.9333333333333333, 'SBAN': 1.0, 'SWDM': 0.3333333333333333, 'SWXM': 1.0, 'SBBW': 0.6222222222222222, 'SWRD': 0.5111111111111111, 'SWNS': 1.0, 'SWFE': 1.0, 'SWYK': 1.0, 'SWCI': 1.0, 'SSBB': 0, 'SJDB': 1.0, 'SWBZ': 0.8333333333333334, 'SIKC': 1.0, 'SIZX': 0.6190476190476191, 'SWEK': 0.42857142857142855, 'SWVC': 0.8, 'SILC': 0.5238095238095238, 'SSNM': 1.0, 'SJKB': 0.9, 'SWCD': 0, 'SWJW': 0, 'SWXV': 0.7, 'SJHG': 0.6428571428571429, 'SBCN': 1.0, 'SSBE': 0, 'SNXL': 1.0, 'SWHP': 0.35555555555555557, 'SBDB': 1.0, 'SWBU': 0, 'SWGP': 1.0, 'SWDE': 0, 'SWHG': 0.6666666666666666, 'SWIQ': 0.5333333333333333, 'SBDO': 1.0, 'SWDB': 0, 'SWYY': 0, 'SNMH': 0, 'SBTG': 1.0, 'SSTL': 0, 'SWCB': 0, 'SDOV': 1.0, 'SJVO': 0, 'SWWA': 0.6666666666666666, 'SSCL': 0, 'SWZM': 0, 'SWWU': 0, 'SIQE': 0, 'SSNC': 0, 'SSND': 1.0, 'SWNH': 1.0, 'SWUA': 1.0, 'SJQP': 0, 'SSAC': 0, 'SBIT': 1.0, 'SBRD': 1.0, 'SBSO': 0.8214285714285714, 'SSOU': 0.6666666666666666, 'SBSI': 0.5714285714285714, 'SDNM': 0.8333333333333334, 'SWBG': 1.0, 'SWPY': 1.0, 'SWPH': 1.0, 'SDH2': 0.7, 'SWJQ': 0}\n"
     ]
    }
   ],
   "source": [
    "import copy\n",
    "\n",
    "Gnorte = copy.deepcopy(G)\n",
    "Gnorte.remove_nodes_from([node for node in G.nodes if nx.get_node_attributes(G, 'region')[node] != 'NORTE'])\n",
    "Gnordeste = copy.deepcopy(G)\n",
    "Gnordeste.remove_nodes_from([node for node in G.nodes if nx.get_node_attributes(G, 'region')[node] != 'NORDESTE'])\n",
    "Gsul = copy.deepcopy(G)\n",
    "Gsul.remove_nodes_from([node for node in G.nodes if nx.get_node_attributes(G, 'region')[node] != 'SUL'])\n",
    "Gsudeste = copy.deepcopy(G)\n",
    "Gsudeste.remove_nodes_from([node for node in G.nodes if nx.get_node_attributes(G, 'region')[node] != 'SUDESTE'])\n",
    "GcentroOeste = copy.deepcopy(G)\n",
    "GcentroOeste.remove_nodes_from([node for node in G.nodes if nx.get_node_attributes(G, 'region')[node] != 'CENTRO-OESTE'])\n",
    "print(nx.average_clustering(G))\n",
    "print(nx.average_clustering(Gnorte))\n",
    "print(nx.average_clustering(Gnordeste))\n",
    "print(nx.average_clustering(Gsul))\n",
    "print(nx.average_clustering(Gsudeste))\n",
    "print(nx.average_clustering(GcentroOeste))\n",
    "print(nx.clustering(G))\n",
    "print(nx.clustering(Gnorte))\n",
    "print(nx.clustering(Gnordeste))\n",
    "print(nx.clustering(Gsul))\n",
    "print(nx.clustering(Gsudeste))\n",
    "print(nx.clustering(GcentroOeste))\n"
   ]
  }
 ],
 "metadata": {
  "kernelspec": {
   "display_name": "Python 3.11.2 64-bit",
   "language": "python",
   "name": "python3"
  },
  "language_info": {
   "codemirror_mode": {
    "name": "ipython",
    "version": 3
   },
   "file_extension": ".py",
   "mimetype": "text/x-python",
   "name": "python",
   "nbconvert_exporter": "python",
   "pygments_lexer": "ipython3",
   "version": "3.11.3"
  },
  "orig_nbformat": 4,
  "vscode": {
   "interpreter": {
    "hash": "1a1af0ee75eeea9e2e1ee996c87e7a2b11a0bebd85af04bb136d915cefc0abce"
   }
  }
 },
 "nbformat": 4,
 "nbformat_minor": 2
}
